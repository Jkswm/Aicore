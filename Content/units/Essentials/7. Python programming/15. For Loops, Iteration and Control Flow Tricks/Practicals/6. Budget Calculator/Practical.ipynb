{
  "cells": [
    {
      "cell_type": "markdown",
      "id": "fe9a96ee",
      "metadata": {
        "id": "fe9a96ee"
      },
      "source": [
        "# Budget Calculator"
      ]
    },
    {
      "cell_type": "code",
      "execution_count": 1,
      "id": "1133d56a",
      "metadata": {
        "colab": {
          "base_uri": "https://localhost:8080/"
        },
        "id": "1133d56a",
        "outputId": "c93af858-84fe-4273-840c-41613bead73c"
      },
      "outputs": [
        {
          "output_type": "stream",
          "name": "stdout",
          "text": [
            "  Preparing metadata (setup.py) ... \u001b[?25l\u001b[?25hdone\n",
            "  Building wheel for timeout-decorator (setup.py) ... \u001b[?25l\u001b[?25hdone\n",
            "Downloading the marking system\n"
          ]
        }
      ],
      "source": [
        "#@title ### Run the following cell to download the necessary files for this practical { display-mode: \"form\" }\n",
        "#@markdown Don't worry about what's in this collapsed cell\n",
        "\n",
        "!pip install -q timeout-decorator\n",
        "print('Downloading the marking system')\n",
        "!wget https://s3-eu-west-1.amazonaws.com/aicore-portal-public-prod-307050600709/practical_files/2466a517-41ac-42b3-9b14-d9cd29585a69/marking_system.py -q -O marking_system.py\n",
        "import marking_system\n",
        "import importlib\n",
        "importlib.reload(marking_system)\n",
        "import sys\n",
        "ipython = get_ipython()\n",
        "def hide_traceback(exc_tuple=None, filename=None, tb_offset=None, exception_only=False, running_compiled_code=False):\n",
        "    etype, value, tb = sys.exc_info()\n",
        "    value.__cause__ = None  # suppress chained exceptions\n",
        "    return ipython._showtraceback(etype, \"❌ \" + f\"\u001b[91m{value}\", ipython.InteractiveTB.get_exception_only(etype, \"❌ \" + f\"\u001b[91m{value}\"))\n",
        "ipython.showtraceback = hide_traceback\n"
      ]
    },
    {
      "cell_type": "markdown",
      "id": "3508dfda",
      "metadata": {
        "id": "3508dfda"
      },
      "source": [
        "Using the following variables\n",
        "\n",
        "- `order_list`: A list with tuples, where each tuple contains the code, the individual price and the quantity of each item in the order\n",
        "- `names`: A dictionary with the names of the items, where the key is the code of the item\n",
        "- `budget`: The budget of the customer\n",
        "- `running_total`: The total cost of the order so far\n",
        "- `receipt`: A list with the items in the order"
      ]
    },
    {
      "cell_type": "code",
      "execution_count": 2,
      "id": "855096ba",
      "metadata": {
        "id": "855096ba"
      },
      "outputs": [],
      "source": [
        "order_list = [(\"tom\", 0.87, 4),\n",
        "              (\"sug\", 1.09, 3),\n",
        "              (\"ws\", 0.29, 4),\n",
        "              (\"juc\", 1.89, 1),\n",
        "              (\"fo\", 1.29, 2)]\n",
        "\n",
        "# This dictionary gives the full name of each product code.\n",
        "names = {\"tom\": \"Tomatoes\",\n",
        "         \"sug\": \"Sugar\",\n",
        "         \"ws\": \"Washing Sponges\",\n",
        "         \"juc\": \"Juice\",\n",
        "         \"fo\": \"Foil\"}\n",
        "\n",
        "budget = 10.00\n",
        "running_total = 0\n",
        "receipt = []\n"
      ]
    },
    {
      "cell_type": "markdown",
      "id": "c98fd2c5",
      "metadata": {
        "id": "c98fd2c5"
      },
      "source": [
        "#### 1. Using a `for` loop, iterate through the `order_list` and:\n",
        "\n",
        "- \"Translate\" the code of the item to the name of the item using the `names` dictionary\n",
        "- Add the name of the item to the `receipt` list\n",
        "- Add the total cost of the item to the `running_total` variable\n",
        "- Subtract the total cost of the item from the `budget` variable\n",
        "\n",
        "At each iteration, check if the running total plus the cost of the next item is greater than the budget.\n",
        "\n",
        "If it is, print the message `\"You can't afford this item: {item name}\"` and break the loop."
      ]
    },
    {
      "cell_type": "code",
      "execution_count": 8,
      "id": "577cf816",
      "metadata": {
        "colab": {
          "base_uri": "https://localhost:8080/"
        },
        "id": "577cf816",
        "outputId": "d3c62992-221e-4b9e-b8de-3f04b360113a"
      },
      "outputs": [
        {
          "output_type": "stream",
          "name": "stdout",
          "text": [
            "You can't afford this item: Foil\n",
            "\n",
            "Receipt:\n",
            "Tomatoes\n",
            "Sugar\n",
            "Washing Sponges\n",
            "Juice\n",
            "Total Cost: $9.80\n",
            "Remaining Budget: $10.00\n"
          ]
        }
      ],
      "source": [
        "import marking_system\n",
        "# Add your code below this line\n",
        "# TODO - Loop through the order list\n",
        "    # TODO - Get the full name of the item\n",
        "    # TODO - Get the price of the item\n",
        "    # TODO - Check if you still have enough money\n",
        "        # TODO - If you can afford it, add the item to the receipt\n",
        "        # TODO - If you can afford it, add the price of the item to the running total\n",
        "    # TODO - If you can't afford it, print a message\n",
        "        # TODO - If you can't afford it, print a message\n",
        "        # TODO - If you can't afford it, break out of the loop\n",
        "# Order list with tuples (code, price, quantity)\n",
        "order_list = [(\"tom\", 0.87, 4),\n",
        "              (\"sug\", 1.09, 3),\n",
        "              (\"ws\", 0.29, 4),\n",
        "              (\"juc\", 1.89, 1),\n",
        "              (\"fo\", 1.29, 2)]\n",
        "\n",
        "# Dictionary mapping item code to item name\n",
        "names = {\"tom\": \"Tomatoes\",\n",
        "         \"sug\": \"Sugar\",\n",
        "         \"ws\": \"Washing Sponges\",\n",
        "         \"juc\": \"Juice\",\n",
        "         \"fo\": \"Foil\"}\n",
        "\n",
        "budget = 10.00\n",
        "running_total = 0\n",
        "receipt = []\n",
        "\n",
        "# Iterate through the order_list\n",
        "for item_code, price, quantity in order_list:\n",
        "    # Get the name of the product using the 'names' dictionary\n",
        "    item_name = names.get(item_code)\n",
        "\n",
        "    # Check if the item code exists in the 'names' dictionary\n",
        "    if item_name:\n",
        "        total_cost = price * quantity\n",
        "\n",
        "        # Check if the running total plus the cost of the next item exceeds the budget\n",
        "        if running_total + total_cost > budget:\n",
        "            print(f\"You can't afford this item: {item_name}\")\n",
        "            break\n",
        "\n",
        "        # Add item name to receipt and update running_total and budget\n",
        "        receipt.append(item_name)\n",
        "        running_total += total_cost\n",
        "    else:\n",
        "        print(f\"Item code '{item_code}' is not in the names dictionary.\")\n",
        "\n",
        "# Print the receipt and remaining budget\n",
        "print(\"\\nReceipt:\")\n",
        "for item in receipt:\n",
        "    print(item)\n",
        "print(f\"Total Cost: ${running_total:.2f}\")\n",
        "print(f\"Remaining Budget: ${budget:.2f}\")\n"
      ]
    },
    {
      "cell_type": "code",
      "source": [],
      "metadata": {
        "id": "H9ag_2MSbClA"
      },
      "id": "H9ag_2MSbClA",
      "execution_count": null,
      "outputs": []
    },
    {
      "cell_type": "code",
      "execution_count": 9,
      "id": "2eddab74",
      "metadata": {
        "colab": {
          "base_uri": "https://localhost:8080/"
        },
        "id": "2eddab74",
        "outputId": "bcf72e4b-92f4-4ef2-9f09-307768f6758f"
      },
      "outputs": [
        {
          "output_type": "stream",
          "name": "stdout",
          "text": [
            "\u001b[92m✔ Well done! You successfully iterated through the order list and printed the name of the item you can't afford.\n"
          ]
        }
      ],
      "source": [
        "#@title #### Run this cell to check if your code looks good { display-mode: \"form\"}\n",
        "assert \"# Add your code below this line\" in _ih[-2], \"Before checking your code, make sure the last cell you ran contains your code. If you did, make sure you haven't deleted the comment that says '# Add your code below this line'.\"\n",
        "assert \"#@title\" not in _ih[-2], \"If you want to check your code, rerun the cell that contains your code. If you did, make sure you haven't deleted the comment that says '# Add your code below this line'.\"\n",
        "\n",
        "marking_system.check_step_1(_ih[-2])\n"
      ]
    },
    {
      "cell_type": "code",
      "execution_count": 20,
      "id": "3db224a4",
      "metadata": {
        "colab": {
          "base_uri": "https://localhost:8080/"
        },
        "id": "3db224a4",
        "outputId": "bf5dc8e8-5334-4e79-d61b-ad53466579c0"
      },
      "outputs": [
        {
          "output_type": "stream",
          "name": "stdout",
          "text": [
            "The first thing you need to do at each iteration is to get the name of the product. The product code is the first element of each tuple in the order list and the corresponding name is in the 'names' dictionary. \n",
            "Remember that you can index a dictionary using the key. So, if you want to get the name of the product with code 'tom', you can use names['tom'].\n",
            "In this case, you are iterating through a list of tuples. So, you need to get the first element of each tuple. You can do that using the index operator. So, if you are iterating through the elements of order_list, you can use placeholder[0] to get the first element of the tuple.\n",
            "All together, you can get the name of the product using names[placeholder[0]].\n"
          ]
        }
      ],
      "source": [
        "#@title #### Run this cell to get a hint { display-mode: \"form\"}\n",
        "marking_system.hint_1()\n"
      ]
    },
    {
      "cell_type": "code",
      "execution_count": 6,
      "id": "d9bbd406",
      "metadata": {
        "colab": {
          "base_uri": "https://localhost:8080/"
        },
        "id": "d9bbd406",
        "outputId": "2e0f74c2-fed8-4d55-aaf7-424eeba45d54"
      },
      "outputs": [
        {
          "output_type": "stream",
          "name": "stdout",
          "text": [
            "The second thing you need to do at each iteration is to get the price of the product. The individual price of the product is the second element of each tuple in the order list, and the quantity of the product is the third element of each tuple in the order list. \n",
            "So, to get the total price of the product, you need to multiply the individual price by the quantity of the product. \n"
          ]
        }
      ],
      "source": [
        "#@title #### Run this cell to get another hint { display-mode: \"form\"}\n",
        "marking_system.hint_2()\n"
      ]
    },
    {
      "cell_type": "code",
      "execution_count": 7,
      "id": "384ca8fd",
      "metadata": {
        "colab": {
          "base_uri": "https://localhost:8080/"
        },
        "id": "384ca8fd",
        "outputId": "a5bac030-6eb6-45cc-bba4-ef25e553cea4"
      },
      "outputs": [
        {
          "output_type": "stream",
          "name": "stdout",
          "text": [
            "One thing to keep in mind is that you need to check if you have enough money. To do so, use an if/else statement. The if statement should check if the running total plus the price of the item is less than or equal to the budget.\n",
            "If it is, you should add the name of the item to the receipt, and the price of the item to the running total. You can use the += operator to add the price to the running total.\n",
            "If it's not, the else statement should print a message saying that you don't have enough money.\n",
            "\n"
          ]
        }
      ],
      "source": [
        "#@title #### Run this cell to get one last hint { display-mode: \"form\"}\n",
        "marking_system.hint_3()\n"
      ]
    }
  ],
  "metadata": {
    "kernelspec": {
      "display_name": "content-projects_new",
      "language": "python",
      "name": "python3"
    },
    "language_info": {
      "codemirror_mode": {
        "name": "ipython",
        "version": 3
      },
      "file_extension": ".py",
      "mimetype": "text/x-python",
      "name": "python",
      "nbconvert_exporter": "python",
      "pygments_lexer": "ipython3",
      "version": "3.10.8"
    },
    "vscode": {
      "interpreter": {
        "hash": "4b961f8166aad6ccb4cf65d0f9c742ef9c6c23ffe83ad932438cd83ed96aebaf"
      }
    },
    "colab": {
      "provenance": []
    }
  },
  "nbformat": 4,
  "nbformat_minor": 5
}