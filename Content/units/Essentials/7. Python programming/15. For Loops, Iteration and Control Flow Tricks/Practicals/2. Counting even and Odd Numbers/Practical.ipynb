{
  "cells": [
    {
      "cell_type": "markdown",
      "id": "8138a717",
      "metadata": {
        "id": "8138a717"
      },
      "source": [
        "# Counting even and Odd Numbers"
      ]
    },
    {
      "cell_type": "code",
      "execution_count": 4,
      "id": "74ef3f7d",
      "metadata": {
        "id": "74ef3f7d",
        "outputId": "f8d8a3fb-925b-431d-a06f-4a61539b8f17",
        "colab": {
          "base_uri": "https://localhost:8080/"
        }
      },
      "outputs": [
        {
          "output_type": "stream",
          "name": "stdout",
          "text": [
            "Downloading the marking system\n"
          ]
        }
      ],
      "source": [
        "#@title ### Run the following cell to download the necessary files for this practical { display-mode: \"form\" }\n",
        "#@markdown Don't worry about what's in this collapsed cell\n",
        "\n",
        "print('Downloading the marking system')\n",
        "!wget https://s3-eu-west-1.amazonaws.com/aicore-portal-public-prod-307050600709/practical_files/f8e314e5-d234-467f-bccb-bd6a8d7eda34/marking_system.py -q -O marking_system.py\n",
        "import marking_system\n",
        "import importlib\n",
        "importlib.reload(marking_system)\n",
        "import sys\n",
        "ipython = get_ipython()\n",
        "def hide_traceback(exc_tuple=None, filename=None, tb_offset=None, exception_only=False, running_compiled_code=False):\n",
        "    etype, value, tb = sys.exc_info()\n",
        "    value.__cause__ = None  # suppress chained exceptions\n",
        "    return ipython._showtraceback(etype, \"❌ \" + f\"\u001b[91m{value}\", ipython.InteractiveTB.get_exception_only(etype, \"❌ \" + f\"\u001b[91m{value}\"))\n",
        "ipython.showtraceback = hide_traceback\n"
      ]
    },
    {
      "cell_type": "markdown",
      "id": "8a2907ce",
      "metadata": {
        "id": "8a2907ce"
      },
      "source": [
        "### 1. Write a `for` loop to count the sum of all even numbers between 1 and 100\n",
        "\n",
        "Start by defining a variable called even_sum and set it to 0"
      ]
    },
    {
      "cell_type": "code",
      "execution_count": 7,
      "id": "022994db",
      "metadata": {
        "id": "022994db",
        "outputId": "17f35930-b403-41a1-d048-ab68315c7857",
        "colab": {
          "base_uri": "https://localhost:8080/"
        }
      },
      "outputs": [
        {
          "output_type": "stream",
          "name": "stdout",
          "text": [
            "2\n",
            "6\n",
            "12\n",
            "20\n",
            "30\n",
            "42\n",
            "56\n",
            "72\n",
            "90\n",
            "110\n",
            "132\n",
            "156\n",
            "182\n",
            "210\n",
            "240\n",
            "272\n",
            "306\n",
            "342\n",
            "380\n",
            "420\n",
            "462\n",
            "506\n",
            "552\n",
            "600\n",
            "650\n",
            "702\n",
            "756\n",
            "812\n",
            "870\n",
            "930\n",
            "992\n",
            "1056\n",
            "1122\n",
            "1190\n",
            "1260\n",
            "1332\n",
            "1406\n",
            "1482\n",
            "1560\n",
            "1640\n",
            "1722\n",
            "1806\n",
            "1892\n",
            "1980\n",
            "2070\n",
            "2162\n",
            "2256\n",
            "2352\n",
            "2450\n",
            "2550\n"
          ]
        }
      ],
      "source": [
        "# TODO - Create a variable called even_sum and set it to 0\n",
        "# TODO - Create a for loop that iterates over the numbers 1 to 100\n",
        "    # TODO - Check if the number is even\n",
        "        # TODO - If the number is even, add it to the even_sum\n",
        "even_sum = 0\n",
        "n= 1\n",
        "for n in range(1,101):\n",
        "  if n % 2 == 0:\n",
        "   even_sum += n\n",
        "   print(even_sum)"
      ]
    },
    {
      "cell_type": "code",
      "execution_count": 6,
      "id": "8a5fd59c",
      "metadata": {
        "id": "8a5fd59c",
        "outputId": "8bebcd51-26e0-45f1-fb29-98ca5254b2d0",
        "colab": {
          "base_uri": "https://localhost:8080/"
        }
      },
      "outputs": [
        {
          "output_type": "stream",
          "name": "stdout",
          "text": [
            "\u001b[92m✔ Well done! You successfully calculated the sum of the even numbers from 1 to 100. \n"
          ]
        }
      ],
      "source": [
        "#@title #### Run this cell to check if your code looks good { display-mode: \"form\"}\n",
        "\n",
        "assert \"even_sum\" in globals(), \"\"\n",
        "marking_system.check_step_1(even_sum)\n"
      ]
    },
    {
      "cell_type": "markdown",
      "id": "ec2939ad",
      "metadata": {
        "id": "ec2939ad"
      },
      "source": [
        "### 2. Write another `for` loop to count the sum of all odd numbers between 1 and 100\n",
        "\n",
        "Start by defining a variable called `odd_sum` and set it to 0"
      ]
    },
    {
      "cell_type": "code",
      "execution_count": 10,
      "id": "ecd3b26d",
      "metadata": {
        "id": "ecd3b26d",
        "outputId": "329d1d5e-1fde-42e2-f610-7e614345ae96",
        "colab": {
          "base_uri": "https://localhost:8080/"
        }
      },
      "outputs": [
        {
          "output_type": "stream",
          "name": "stdout",
          "text": [
            "1\n",
            "1\n",
            "4\n",
            "4\n",
            "9\n",
            "9\n",
            "16\n",
            "16\n",
            "25\n",
            "25\n",
            "36\n",
            "36\n",
            "49\n",
            "49\n",
            "64\n",
            "64\n",
            "81\n",
            "81\n",
            "100\n",
            "100\n",
            "121\n",
            "121\n",
            "144\n",
            "144\n",
            "169\n",
            "169\n",
            "196\n",
            "196\n",
            "225\n",
            "225\n",
            "256\n",
            "256\n",
            "289\n",
            "289\n",
            "324\n",
            "324\n",
            "361\n",
            "361\n",
            "400\n",
            "400\n",
            "441\n",
            "441\n",
            "484\n",
            "484\n",
            "529\n",
            "529\n",
            "576\n",
            "576\n",
            "625\n",
            "625\n",
            "676\n",
            "676\n",
            "729\n",
            "729\n",
            "784\n",
            "784\n",
            "841\n",
            "841\n",
            "900\n",
            "900\n",
            "961\n",
            "961\n",
            "1024\n",
            "1024\n",
            "1089\n",
            "1089\n",
            "1156\n",
            "1156\n",
            "1225\n",
            "1225\n",
            "1296\n",
            "1296\n",
            "1369\n",
            "1369\n",
            "1444\n",
            "1444\n",
            "1521\n",
            "1521\n",
            "1600\n",
            "1600\n",
            "1681\n",
            "1681\n",
            "1764\n",
            "1764\n",
            "1849\n",
            "1849\n",
            "1936\n",
            "1936\n",
            "2025\n",
            "2025\n",
            "2116\n",
            "2116\n",
            "2209\n",
            "2209\n",
            "2304\n",
            "2304\n",
            "2401\n",
            "2401\n",
            "2500\n",
            "2500\n"
          ]
        }
      ],
      "source": [
        "# TODO - Create a variable called odd_sum and set it to 0\n",
        "# TODO - Create a for loop that iterates over the numbers 1 to 100\n",
        "    # TODO - Check if the number is even\n",
        "        # TODO - If the number is even, add it to the odd_sum\n",
        "odd_sum = 0\n",
        "for n in range(1,101):\n",
        "  if n % 2 != 0 :\n",
        "    odd_sum += n\n",
        "  print(odd_sum)"
      ]
    },
    {
      "cell_type": "code",
      "execution_count": 13,
      "id": "8be47ca4",
      "metadata": {
        "id": "8be47ca4",
        "outputId": "24c227dc-7773-4ff6-dace-9218460b7a1b",
        "colab": {
          "base_uri": "https://localhost:8080/"
        }
      },
      "outputs": [
        {
          "output_type": "stream",
          "name": "stdout",
          "text": [
            "\u001b[92m✔ Well done! You successfully calculated the sum of the even numbers from 1 to 100. \n"
          ]
        }
      ],
      "source": [
        "#@title #### Run this cell to check if your code looks good { display-mode: \"form\"}\n",
        "\n",
        "assert \"odd_sum\" in globals(), \"\"\n",
        "marking_system.check_step_2(odd_sum)\n"
      ]
    },
    {
      "cell_type": "code",
      "execution_count": null,
      "id": "430c097d",
      "metadata": {
        "id": "430c097d"
      },
      "outputs": [],
      "source": []
    }
  ],
  "metadata": {
    "kernelspec": {
      "display_name": "content-projects",
      "language": "python",
      "name": "python3"
    },
    "language_info": {
      "codemirror_mode": {
        "name": "ipython",
        "version": 3
      },
      "file_extension": ".py",
      "mimetype": "text/x-python",
      "name": "python",
      "nbconvert_exporter": "python",
      "pygments_lexer": "ipython3",
      "version": "3.10.9"
    },
    "vscode": {
      "interpreter": {
        "hash": "09a03f703d9594344a2b9942d46f9fa7ca1a719272e47a84f9d4a0d86a51c104"
      }
    },
    "colab": {
      "provenance": []
    }
  },
  "nbformat": 4,
  "nbformat_minor": 5
}