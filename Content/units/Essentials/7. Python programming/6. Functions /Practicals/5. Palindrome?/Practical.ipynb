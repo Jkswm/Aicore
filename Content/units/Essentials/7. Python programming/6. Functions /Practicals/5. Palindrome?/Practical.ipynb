{
  "cells": [
    {
      "cell_type": "markdown",
      "id": "efc2903f",
      "metadata": {
        "id": "efc2903f"
      },
      "source": [
        "# Palindrome?"
      ]
    },
    {
      "cell_type": "code",
      "execution_count": 50,
      "id": "69c72cf6",
      "metadata": {
        "id": "69c72cf6",
        "outputId": "b7a2aa99-8c62-4c52-93cc-7a94647f2e9d",
        "colab": {
          "base_uri": "https://localhost:8080/"
        }
      },
      "outputs": [
        {
          "output_type": "stream",
          "name": "stdout",
          "text": [
            "Downloading the marking system\n"
          ]
        }
      ],
      "source": [
        "#@title ### Run the following cell to download the necessary files for this practical { display-mode: \"form\" }\n",
        "#@markdown Don't worry about what's in this collapsed cell\n",
        "\n",
        "print('Downloading the marking system')\n",
        "!wget https://s3-eu-west-1.amazonaws.com/aicore-portal-public-prod-307050600709/practical_files/95c8dcce-c456-490f-8fde-9868bdee6dfd/marking_system.py -q -O marking_system.py\n",
        "import marking_system\n",
        "import importlib\n",
        "importlib.reload(marking_system)\n",
        "import sys\n",
        "ipython = get_ipython()\n",
        "def hide_traceback(exc_tuple=None, filename=None, tb_offset=None, exception_only=False, running_compiled_code=False):\n",
        "    etype, value, tb = sys.exc_info()\n",
        "    value.__cause__ = None  # suppress chained exceptions\n",
        "    return ipython._showtraceback(etype, \"❌ \" + f\"\u001b[91m{value}\", ipython.InteractiveTB.get_exception_only(etype, \"❌ \" + f\"\u001b[91m{value}\"))\n",
        "ipython.showtraceback = hide_traceback\n"
      ]
    },
    {
      "cell_type": "markdown",
      "id": "096c4062",
      "metadata": {
        "id": "096c4062"
      },
      "source": [
        "A palindrome is a word, phrase, number, or other sequence of characters which reads the same backward or forward. This includes capital letters, punctuation, and other special characters.\n",
        "#### 1. Write a function that takes in a string and returns `True` if it is a palindrome and `False` otherwise\n",
        "\n",
        "Call the function `is_palindrome`"
      ]
    },
    {
      "cell_type": "code",
      "execution_count": 51,
      "id": "77196240",
      "metadata": {
        "colab": {
          "base_uri": "https://localhost:8080/"
        },
        "id": "77196240",
        "outputId": "51feaff3-30ef-4000-bd8a-225a46eb87af"
      },
      "outputs": [
        {
          "output_type": "stream",
          "name": "stdout",
          "text": [
            "True\n"
          ]
        }
      ],
      "source": [
        "# TODO - Define a function called is_palindrome that takes a string as an argument and returns True if the string is a palindrome and False otherwise.\n",
        "def is_palindrome(sentence):\n",
        "                        return sentence == sentence[::-1]\n",
        "\n",
        "sentence = 'racecar'\n",
        "result = is_palindrome(sentence)\n",
        "print(result)\n",
        ""
      ]
    },
    {
      "cell_type": "code",
      "execution_count": 52,
      "id": "e5e7c483",
      "metadata": {
        "id": "e5e7c483",
        "outputId": "22580da7-5ae4-436c-fe8c-45212a9ed281",
        "colab": {
          "base_uri": "https://localhost:8080/"
        }
      },
      "outputs": [
        {
          "output_type": "stream",
          "name": "stdout",
          "text": [
            "\u001b[92m✔ Well done! Your function now checks if the word is a palindrome\n"
          ]
        }
      ],
      "source": [
        "#@title Run this cell to check your code { display-mode: \"form\" }\n",
        "\n",
        "assert \"is_palindrome\" in globals(), \"You haven't defined a function called 'is_palindrome'. Please, try again.\"\n",
        "assert callable(is_palindrome), \"'is_palindrome' should be a function. Please, try again.\"\n",
        "assert is_palindrome.__code__.co_argcount == 1, \"'is_palindrome' should take one argument. Please, try again.\"\n",
        "\n",
        "marking_system.check_step_1(is_palindrome)\n"
      ]
    },
    {
      "cell_type": "markdown",
      "id": "f178763b",
      "metadata": {
        "id": "f178763b"
      },
      "source": [
        "#### 2. Write a function that takes in a string and returns `True` if it is a palindrome and `False` otherwise. This time, ignore capitalisation and punctuation.\n",
        "\n",
        "One tip, you can get a list of all the punctuation characters by importing the string module and using `string.punctuation`. Then, remove all punctuation from the string using the `replace` method."
      ]
    },
    {
      "cell_type": "code",
      "source": [],
      "metadata": {
        "id": "gnNFvY4ljANP"
      },
      "id": "gnNFvY4ljANP",
      "execution_count": 52,
      "outputs": []
    },
    {
      "cell_type": "code",
      "execution_count": 57,
      "id": "8d5834aa",
      "metadata": {
        "id": "8d5834aa",
        "outputId": "d850d960-c68d-467a-8fd3-558f81053455",
        "colab": {
          "base_uri": "https://localhost:8080/"
        }
      },
      "outputs": [
        {
          "output_type": "stream",
          "name": "stdout",
          "text": [
            "True\n"
          ]
        }
      ],
      "source": [
        "import string\n",
        "\n",
        "punctuation = string.punctuation\n",
        "# TODO - Repeat the previous exercise but ignore case sensitivity and punctuation.\n",
        "def remove_punctuation(sentence):\n",
        "    clean_sentence = sentence\n",
        "    for char in punctuation:\n",
        "        clean_sentence = clean_sentence.replace(char,\"\")\n",
        "    return clean_sentence\n",
        "\n",
        "def is_palindrome(sentence):\n",
        "     clean_sentence= remove_punctuation(sentence)\n",
        "     clean_sentence = clean_sentence.lower()\n",
        "     return clean_sentence == clean_sentence[::-1]\n",
        "\n",
        "sentence = 'RaceCar'\n",
        "result = is_palindrome(sentence)\n",
        "print(result)\n",
        "\n",
        "\n"
      ]
    },
    {
      "cell_type": "code",
      "execution_count": 58,
      "id": "775351c6",
      "metadata": {
        "id": "775351c6",
        "outputId": "88b10969-96b8-4911-992d-404d8a916788",
        "colab": {
          "base_uri": "https://localhost:8080/"
        }
      },
      "outputs": [
        {
          "output_type": "stream",
          "name": "stdout",
          "text": [
            "\u001b[92m✔ Well done! Your function now ignores case and punctuation\n"
          ]
        }
      ],
      "source": [
        "#@title Run this cell to check your code { display-mode: \"form\" }\n",
        "\n",
        "assert \"is_palindrome\" in globals(), \"You haven't defined a function called 'is_palindrome'. Please, try again.\"\n",
        "assert callable(is_palindrome), \"'is_palindrome' should be a function. Please, try again.\"\n",
        "assert is_palindrome.__code__.co_argcount == 1, \"'is_palindrome' should take one argument. Please, try again.\"\n",
        "\n",
        "marking_system.check_step_2(is_palindrome)\n"
      ]
    },
    {
      "cell_type": "markdown",
      "id": "0af30b1f",
      "metadata": {
        "id": "0af30b1f"
      },
      "source": [
        "There are several ways to implement this. Some require less code, but some are more efficient; which is yours, and can you think of how to implement the other way?"
      ]
    }
  ],
  "metadata": {
    "kernelspec": {
      "display_name": "content-projects_new",
      "language": "python",
      "name": "python3"
    },
    "language_info": {
      "codemirror_mode": {
        "name": "ipython",
        "version": 3
      },
      "file_extension": ".py",
      "mimetype": "text/x-python",
      "name": "python",
      "nbconvert_exporter": "python",
      "pygments_lexer": "ipython3",
      "version": "3.10.8"
    },
    "vscode": {
      "interpreter": {
        "hash": "4b961f8166aad6ccb4cf65d0f9c742ef9c6c23ffe83ad932438cd83ed96aebaf"
      }
    },
    "colab": {
      "provenance": [],
      "history_visible": true
    }
  },
  "nbformat": 4,
  "nbformat_minor": 5
}