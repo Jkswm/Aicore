{
  "cells": [
    {
      "cell_type": "markdown",
      "id": "5f585403",
      "metadata": {
        "id": "5f585403"
      },
      "source": [
        "# Volume of a Sphere"
      ]
    },
    {
      "cell_type": "code",
      "execution_count": 34,
      "id": "3ade59b3",
      "metadata": {
        "id": "3ade59b3",
        "outputId": "200f03a6-de52-49cb-8ced-a99544dd83db",
        "colab": {
          "base_uri": "https://localhost:8080/"
        }
      },
      "outputs": [
        {
          "output_type": "stream",
          "name": "stdout",
          "text": [
            "Downloading the marking system\n"
          ]
        }
      ],
      "source": [
        "#@title ### Run the following cell to download the necessary files for this practical { display-mode: \"form\" }\n",
        "#@markdown Don't worry about what's in this collapsed cell\n",
        "\n",
        "print('Downloading the marking system')\n",
        "!wget https://s3-eu-west-1.amazonaws.com/aicore-portal-public-prod-307050600709/practical_files/46c69857-5d73-4c48-a72f-8aec995bf871/marking_system.py -q -O marking_system.py\n",
        "import marking_system\n",
        "import importlib\n",
        "importlib.reload(marking_system)\n",
        "import sys\n",
        "ipython = get_ipython()\n",
        "def hide_traceback(exc_tuple=None, filename=None, tb_offset=None, exception_only=False, running_compiled_code=False):\n",
        "    etype, value, tb = sys.exc_info()\n",
        "    value.__cause__ = None  # suppress chained exceptions\n",
        "    return ipython._showtraceback(etype, \"❌ \" + f\"\u001b[91m{value}\", ipython.InteractiveTB.get_exception_only(etype, \"❌ \" + f\"\u001b[91m{value}\"))\n",
        "ipython.showtraceback = hide_traceback\n"
      ]
    },
    {
      "cell_type": "markdown",
      "id": "520e01db",
      "metadata": {
        "id": "520e01db"
      },
      "source": [
        "#### 1. Write a function called `volume_of_sphere` that takes in a variable called `radius` which is the radius of a sphere\n",
        "\n",
        "- The function calculates the volume of a sphere. Search online for the formula for calculating the volume and use `PI = 3.14`\n",
        "- The function should return the volume of the sphere rounded to 2 decimal points"
      ]
    },
    {
      "cell_type": "code",
      "execution_count": 36,
      "id": "fbb47c16",
      "metadata": {
        "id": "fbb47c16",
        "outputId": "55c61bdd-1f6a-4aa0-9051-073ba28aa72b",
        "colab": {
          "base_uri": "https://localhost:8080/"
        }
      },
      "outputs": [
        {
          "output_type": "stream",
          "name": "stdout",
          "text": [
            "33.49\n"
          ]
        }
      ],
      "source": [
        "# TODO - Create a function that calculates the volume of a sphere given its radius\n",
        "def volume_of_sphere(radius):\n",
        "    PI = 3.14\n",
        "    # Calculate the volume using the formula: V = (4/3) * π * r^3\n",
        "    volume_of_sphere = ((4/3) * PI * radius**3)\n",
        "    return round(volume_of_sphere, 2)  # Round the result to 2 decimal places\n",
        "\n",
        "# Test the function\n",
        "radius = 2.0\n",
        "sphere_volume = volume_of_sphere(radius)\n",
        "print(sphere_volume)\n"
      ]
    },
    {
      "cell_type": "code",
      "execution_count": 37,
      "id": "dbc23811",
      "metadata": {
        "id": "dbc23811",
        "outputId": "780fb874-8c7d-4db2-d5c6-1ea0cdc3e3d9",
        "colab": {
          "base_uri": "https://localhost:8080/"
        }
      },
      "outputs": [
        {
          "output_type": "stream",
          "name": "stdout",
          "text": [
            "\u001b[92m✔ Well done! You created a function that returns the volume of a sphere.\n"
          ]
        }
      ],
      "source": [
        "#@title Run this cell to check your code { display-mode: \"form\" }\n",
        "\n",
        "assert \"volume_of_sphere\" in globals(), \"You haven't defined a function called 'volume_of_sphere'. Please, try again.\"\n",
        "assert callable(volume_of_sphere), \"'volume_of_sphere' should be a function. Please, try again.\"\n",
        "assert volume_of_sphere.__code__.co_argcount == 1, \"'volume_of_sphere' should take 1 argument. Please, try again.\"\n",
        "\n",
        "marking_system.check_step_1(volume_of_sphere)\n"
      ]
    },
    {
      "cell_type": "markdown",
      "id": "bd91383b",
      "metadata": {
        "id": "bd91383b"
      },
      "source": [
        "#### 2. Call your function to test it\n",
        "\n",
        "Use the following code to test your function:"
      ]
    },
    {
      "cell_type": "code",
      "execution_count": 29,
      "id": "3f726e2f",
      "metadata": {
        "id": "3f726e2f",
        "outputId": "9d9ca69e-b3d5-49e0-ca13-ce1b3b7da1c3",
        "colab": {
          "base_uri": "https://localhost:8080/"
        }
      },
      "outputs": [
        {
          "output_type": "execute_result",
          "data": {
            "text/plain": [
              "33.49"
            ]
          },
          "metadata": {},
          "execution_count": 29
        }
      ],
      "source": [
        "volume_of_sphere(2)\n"
      ]
    },
    {
      "cell_type": "markdown",
      "id": "736670e7",
      "metadata": {
        "id": "736670e7"
      },
      "source": [
        "The output should be `33.49`"
      ]
    }
  ],
  "metadata": {
    "kernelspec": {
      "display_name": "content-projects",
      "language": "python",
      "name": "python3"
    },
    "language_info": {
      "name": "python",
      "version": "3.10.8"
    },
    "vscode": {
      "interpreter": {
        "hash": "ade8e5586172805df9bc062837b397cc969901b5c9c96b7ef37746d262623997"
      }
    },
    "colab": {
      "provenance": []
    }
  },
  "nbformat": 4,
  "nbformat_minor": 5
}