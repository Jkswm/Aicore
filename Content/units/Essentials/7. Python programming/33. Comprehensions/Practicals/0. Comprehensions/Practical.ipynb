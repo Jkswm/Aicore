{
  "cells": [
    {
      "cell_type": "markdown",
      "id": "3bed4097",
      "metadata": {
        "id": "3bed4097"
      },
      "source": [
        "# Comprehensions"
      ]
    },
    {
      "cell_type": "markdown",
      "id": "d50673b8",
      "metadata": {
        "id": "d50673b8"
      },
      "source": [
        "#### 1. Use a list comprehension to capitalise the first letter of every element in the list `['hello', 'world']`"
      ]
    },
    {
      "cell_type": "code",
      "execution_count": 1,
      "id": "a2c25f40",
      "metadata": {
        "colab": {
          "base_uri": "https://localhost:8080/"
        },
        "id": "a2c25f40",
        "outputId": "77126a80-75e4-4283-a537-48283be54f14"
      },
      "outputs": [
        {
          "output_type": "stream",
          "name": "stdout",
          "text": [
            "['Hello', 'World']\n"
          ]
        }
      ],
      "source": [
        "# TODO - Create a variable called word_list, and assign the values `['hello', 'world']`\n",
        "# TODO - Use list comprension to capitalise the first letter of every element in `word_list`. Assign to a variable called `capital_list`.\n",
        "world_list = ['hello','world']\n",
        "capital_list = [ word.title() for word in world_list]\n",
        "print(capital_list)\n"
      ]
    },
    {
      "cell_type": "markdown",
      "id": "a02860a4",
      "metadata": {
        "id": "a02860a4"
      },
      "source": [
        "#### 2. Use a list comprehension to filter out every multiple of 5 from a range of numbers up to 100"
      ]
    },
    {
      "cell_type": "code",
      "execution_count": 14,
      "id": "8319b8bf",
      "metadata": {
        "colab": {
          "base_uri": "https://localhost:8080/"
        },
        "id": "8319b8bf",
        "outputId": "fbd853ab-563a-4f38-b7e3-46268a43aeae"
      },
      "outputs": [
        {
          "output_type": "stream",
          "name": "stdout",
          "text": [
            "[0, 5, 10, 15, 20, 25, 30, 35, 40, 45, 50, 55, 60, 65, 70, 75, 80, 85, 90, 95, 100]\n"
          ]
        }
      ],
      "source": [
        "# TODO - Use a list comprehension to filter out every multiple of 5 from a range of numbers up to 100\n",
        "numbers = range(0,101)\n",
        "multi_5 = []\n",
        "for number in numbers:\n",
        "  if number % 5 == 0:\n",
        "    multi_5.append(number)\n",
        "print(multi_5)"
      ]
    },
    {
      "cell_type": "markdown",
      "id": "8ec542df",
      "metadata": {
        "id": "8ec542df"
      },
      "source": [
        "#### 3. Use a dictionary comprehension to create a map between every integer up to 15 and it's value squared, and assign to a variable called `squared_dict`.\n",
        "\n"
      ]
    },
    {
      "cell_type": "code",
      "execution_count": 2,
      "id": "85cba5c1",
      "metadata": {
        "colab": {
          "base_uri": "https://localhost:8080/"
        },
        "id": "85cba5c1",
        "outputId": "407d0edb-9fa6-4d9f-9cd9-9a67bebdd0ed"
      },
      "outputs": [
        {
          "output_type": "stream",
          "name": "stdout",
          "text": [
            "[0, 1, 4, 9, 16, 25, 36, 49, 64, 81, 100, 121, 144, 169, 196, 225]\n"
          ]
        }
      ],
      "source": [
        "# TODO - Use a dictionary comprehension to create a map between every integer up to 15 and it's value squared\n",
        "numbers = range(0,16)\n",
        "square_dict = [number**2 for number in numbers]\n",
        "print(square_dict)"
      ]
    },
    {
      "cell_type": "markdown",
      "id": "e175232f",
      "metadata": {
        "id": "e175232f"
      },
      "source": [
        "#### 4. Now, use a dictionary comprehension to create a dictionary that does the inverse! (hint: iterate over `squared_dict.items()` )."
      ]
    },
    {
      "cell_type": "code",
      "execution_count": 8,
      "id": "c831b7b1",
      "metadata": {
        "colab": {
          "base_uri": "https://localhost:8080/"
        },
        "id": "c831b7b1",
        "outputId": "f9b528bc-19c3-4577-8736-a6c2a0fe6e83"
      },
      "outputs": [
        {
          "output_type": "stream",
          "name": "stdout",
          "text": [
            "{0: 0, 1: 1, 4: 2, 9: 3, 16: 4, 25: 5, 36: 6, 49: 7, 64: 8, 81: 9, 100: 10, 121: 11, 144: 12, 169: 13, 196: 14, 225: 15}\n"
          ]
        }
      ],
      "source": [
        "square_dict = {number: number**2 for number in range(0, 16)}\n",
        "inverse_dict = {number**2: number for number, numbers in square_dict.items()}\n",
        "print(inverse_dict)\n"
      ]
    }
  ],
  "metadata": {
    "kernelspec": {
      "display_name": "content-projects_new",
      "language": "python",
      "name": "python3"
    },
    "language_info": {
      "codemirror_mode": {
        "name": "ipython",
        "version": 3
      },
      "file_extension": ".py",
      "mimetype": "text/x-python",
      "name": "python",
      "nbconvert_exporter": "python",
      "pygments_lexer": "ipython3",
      "version": "3.10.8"
    },
    "vscode": {
      "interpreter": {
        "hash": "4b961f8166aad6ccb4cf65d0f9c742ef9c6c23ffe83ad932438cd83ed96aebaf"
      }
    },
    "colab": {
      "provenance": []
    }
  },
  "nbformat": 4,
  "nbformat_minor": 5
}