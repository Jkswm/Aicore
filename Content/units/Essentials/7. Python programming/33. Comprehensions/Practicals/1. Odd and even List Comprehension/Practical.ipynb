{
  "cells": [
    {
      "cell_type": "markdown",
      "id": "27035db0",
      "metadata": {
        "id": "27035db0"
      },
      "source": [
        "# Odd and even List Comprehension"
      ]
    },
    {
      "cell_type": "markdown",
      "id": "8bc77b02",
      "metadata": {
        "id": "8bc77b02"
      },
      "source": [
        "#### 1. Create a list comprehension that squares even arguments, and squares odd arguments after adding one to them. Test it on  `my_list = [1, 5, 8, 6, 21]`."
      ]
    },
    {
      "cell_type": "code",
      "execution_count": 2,
      "id": "7090583e",
      "metadata": {
        "id": "7090583e",
        "outputId": "db731884-3e87-4ad9-9964-0f19bc4f3b03",
        "colab": {
          "base_uri": "https://localhost:8080/"
        }
      },
      "outputs": [
        {
          "output_type": "stream",
          "name": "stdout",
          "text": [
            "[4, 36, 64, 36, 484]\n"
          ]
        }
      ],
      "source": [
        "# TODO - Create a list comprehension that squares even arguments, and squares odd arguments after adding one to them. Test it on `my_list`.\n",
        "#Add squared number in if it is even else add +1 to odd number then square then add to list\n",
        "my_list = [1, 5, 8, 6, 21]\n",
        "result =[num**2 if num % 2 ==0 else (num + 1)**2 for num in my_list]\n",
        "print(result)"
      ]
    },
    {
      "cell_type": "markdown",
      "id": "95aac6b4",
      "metadata": {
        "id": "95aac6b4"
      },
      "source": [
        "The output should be:\n",
        "\n",
        "`[4, 36, 64, 36, 484]`"
      ]
    }
  ],
  "metadata": {
    "kernelspec": {
      "display_name": "huggingface1",
      "language": "python",
      "name": "python3"
    },
    "language_info": {
      "codemirror_mode": {
        "name": "ipython",
        "version": 3
      },
      "file_extension": ".py",
      "mimetype": "text/x-python",
      "name": "python",
      "nbconvert_exporter": "python",
      "pygments_lexer": "ipython3",
      "version": "3.10.8"
    },
    "colab": {
      "provenance": []
    }
  },
  "nbformat": 4,
  "nbformat_minor": 5
}