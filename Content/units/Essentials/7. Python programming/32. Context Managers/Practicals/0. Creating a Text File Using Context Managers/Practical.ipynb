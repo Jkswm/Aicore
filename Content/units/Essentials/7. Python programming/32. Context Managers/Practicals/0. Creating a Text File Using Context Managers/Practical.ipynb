{
  "cells": [
    {
      "cell_type": "markdown",
      "metadata": {
        "id": "RlbLDjXbD1CA"
      },
      "source": [
        "# Creating a Text File Using Context Managers"
      ]
    },
    {
      "cell_type": "markdown",
      "metadata": {
        "id": "oSjUkdj1D1CK"
      },
      "source": [
        "Create a context manager that opens a file called `test.txt` in write mode and writes the message \"Hello, I am a context manager!\" to the file."
      ]
    },
    {
      "cell_type": "code",
      "source": [],
      "metadata": {
        "id": "ORLK2ip1Fi3U"
      },
      "execution_count": null,
      "outputs": []
    },
    {
      "cell_type": "code",
      "execution_count": 11,
      "metadata": {
        "id": "KkCw86D3D1CL"
      },
      "outputs": [],
      "source": [
        "# TODO: Create a context manager that opens a file called `test.txt` in write mode and writes the message \"Hello, I am a context manager!\" to the file.\n",
        "import json\n",
        "def load_movies_data():\n",
        "  movies = json.load(file)\n",
        "  json.load(movies.json)\n",
        "  with open(\"test.txt\", mode=\"w\") as file:\n",
        "      file.write(\"Hello, I am a context manager!\")"
      ]
    },
    {
      "cell_type": "markdown",
      "metadata": {
        "id": "eCfBawOuD1CP"
      },
      "source": [
        "Now use a context manager to read the file you just saved into a variable called `my_string`, and print it out:"
      ]
    },
    {
      "cell_type": "code",
      "execution_count": 10,
      "metadata": {
        "id": "z_SD4fxZD1CQ"
      },
      "outputs": [],
      "source": [
        "# TODO: Create a context manager that opens a file called `test.txt` in read mode and reads the contents of the file into a variable called `my_string`.\n",
        "# TODO: Print `my_string `\n",
        "def read_file(file_name):\n",
        "    try:\n",
        "        with open(file_name, 'r') as file:\n",
        "            my_string = file.read()\n",
        "            yield my_string\n",
        "    except Exception as e:\n",
        "        print(f\"An error occurred: {e}\")\n",
        "\n",
        "    file_name = 'test.txt'\n",
        "\n",
        "    with read_file(file_name) as my_string:\n",
        "        if my_string:\n",
        "            print(my_string)\n",
        "        else:\n",
        "            print(\"File is empty or not found.\")\n"
      ]
    }
  ],
  "metadata": {
    "language_info": {
      "name": "python"
    },
    "colab": {
      "provenance": []
    },
    "kernelspec": {
      "name": "python3",
      "display_name": "Python 3"
    }
  },
  "nbformat": 4,
  "nbformat_minor": 0
}