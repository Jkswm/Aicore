{
  "cells": [
    {
      "cell_type": "markdown",
      "id": "6d8086c5",
      "metadata": {
        "id": "6d8086c5"
      },
      "source": [
        "# Flight Safety Checker"
      ]
    },
    {
      "cell_type": "markdown",
      "id": "85b8aef7",
      "metadata": {
        "id": "85b8aef7"
      },
      "source": [
        "Given 2 variables, `altitude` (ft) and `airspeed` (knots)\n",
        "\n",
        "### 1. Write a program that categorises entries into 'safe flying' and 'unsafe flying' based on the following criteria:\n",
        "   - An `altitude` below 100ft or above 50000ft is considered unsafe flying\n",
        "   - An `airspeed` below 60 knots or above 500 knots is considered unsafe flying\n",
        "   - If `altitude` and `airspeed` are outside these ranges, the flight is considered as safe\n",
        "   \n",
        "*CLUE: You will have to figure out the syntax for using `and`/`or` keywords in `if` statements*\n",
        "\n",
        "<p style=\"font-size: 14px; color: #999999; margin-top: 0px; margin-bottom: 0px;\">This practical doesn't have a marking system because there are many ways to tackle this issue</p>"
      ]
    },
    {
      "cell_type": "code",
      "execution_count": 31,
      "id": "ad3c42c9",
      "metadata": {
        "id": "ad3c42c9",
        "outputId": "fbb6997a-94ac-4303-f076-45c8e0850af4",
        "colab": {
          "base_uri": "https://localhost:8080/"
        }
      },
      "outputs": [
        {
          "output_type": "stream",
          "name": "stdout",
          "text": [
            "Enter altitude (ft): 25000\n",
            "Enter airspeed (knots): 300\n",
            "safe flying\n"
          ]
        }
      ],
      "source": [
        "# TODO - Create a variable called altitude and set it to a value in ft\n",
        "# TODO - Create a variable called airspeed and set it to a value in knots\n",
        "x = float(input(\"Enter altitude (ft): \"))\n",
        "y = float(input(\"Enter airspeed (knots): \"))\n",
        "\n",
        "# TODO - Create the if/else statement to check if the altitude and airspeed are within the safe range\n",
        "if 100 <= x <= 50000 and 60 <= y <= 500:\n",
        "    message = \"safe flying\"\n",
        "else:\n",
        "    message = \"unsafe flying\"\n",
        "\n",
        "print(message)"
      ]
    },
    {
      "cell_type": "markdown",
      "id": "a42d9e5f",
      "metadata": {
        "id": "a42d9e5f"
      },
      "source": [
        "### 2. Try to write this as cleanly as possible and test your code with the following by substituting in again:\n",
        "\n",
        "- Altitude: 25000ft, Airspeed: 300 knots\n",
        "- Altitude: 50001ft, Airspeed: 250 knots\n",
        "- Altitude: 90ft, Airspeed: 125 knots"
      ]
    },
    {
      "cell_type": "code",
      "execution_count": 32,
      "id": "30ef543d",
      "metadata": {
        "id": "30ef543d",
        "outputId": "02b61b7c-beeb-417c-cd28-b183403af51b",
        "colab": {
          "base_uri": "https://localhost:8080/"
        }
      },
      "outputs": [
        {
          "output_type": "stream",
          "name": "stdout",
          "text": [
            "Enter altitude (ft): 50001\n",
            "Enter airspeed (knots): 250\n",
            "unsafe flying\n"
          ]
        }
      ],
      "source": [
        "x = float(input(\"Enter altitude (ft): \"))\n",
        "y = float(input(\"Enter airspeed (knots): \"))\n",
        "\n",
        "# TODO - Create the if/else statement to check if the altitude and airspeed are within the safe range\n",
        "if 100 <= x <= 50000 and 60 <= y <= 500:\n",
        "    message = \"safe flying\"\n",
        "else:\n",
        "    message = \"unsafe flying\"\n",
        "\n",
        "print(message)"
      ]
    }
  ],
  "metadata": {
    "kernelspec": {
      "display_name": "content-projects_new",
      "language": "python",
      "name": "python3"
    },
    "language_info": {
      "codemirror_mode": {
        "name": "ipython",
        "version": 3
      },
      "file_extension": ".py",
      "mimetype": "text/x-python",
      "name": "python",
      "nbconvert_exporter": "python",
      "pygments_lexer": "ipython3",
      "version": "3.10.8"
    },
    "vscode": {
      "interpreter": {
        "hash": "4b961f8166aad6ccb4cf65d0f9c742ef9c6c23ffe83ad932438cd83ed96aebaf"
      }
    },
    "colab": {
      "provenance": [],
      "history_visible": true
    }
  },
  "nbformat": 4,
  "nbformat_minor": 5
}