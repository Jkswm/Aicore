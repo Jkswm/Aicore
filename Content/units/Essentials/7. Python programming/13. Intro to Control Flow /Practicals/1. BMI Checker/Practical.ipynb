{
  "cells": [
    {
      "cell_type": "markdown",
      "id": "48aa68f0",
      "metadata": {
        "id": "48aa68f0"
      },
      "source": [
        "# BMI Checker"
      ]
    },
    {
      "cell_type": "code",
      "execution_count": 1,
      "id": "a812936d",
      "metadata": {
        "id": "a812936d",
        "outputId": "782111a7-69ba-4bb4-c72f-e0783e1472b5",
        "colab": {
          "base_uri": "https://localhost:8080/"
        }
      },
      "outputs": [
        {
          "output_type": "stream",
          "name": "stdout",
          "text": [
            "Downloading the marking system\n"
          ]
        }
      ],
      "source": [
        "#@title ### Run the following cell to download the necessary files for this practical { display-mode: \"form\" }\n",
        "#@markdown Don't worry about what's in this collapsed cell\n",
        "\n",
        "print('Downloading the marking system')\n",
        "!wget https://s3-eu-west-1.amazonaws.com/aicore-portal-public-prod-307050600709/practical_files/c6de4fa0-bdf6-417d-844f-8727e1dffd59/marking_system.py -q -O marking_system.py\n",
        "import marking_system\n",
        "import importlib\n",
        "importlib.reload(marking_system)\n",
        "import sys\n",
        "ipython = get_ipython()\n",
        "def hide_traceback(exc_tuple=None, filename=None, tb_offset=None, exception_only=False, running_compiled_code=False):\n",
        "    etype, value, tb = sys.exc_info()\n",
        "    value.__cause__ = None  # suppress chained exceptions\n",
        "    return ipython._showtraceback(etype, \"❌ \" + f\"\u001b[91m{value}\", ipython.InteractiveTB.get_exception_only(etype, \"❌ \" + f\"\u001b[91m{value}\"))\n",
        "ipython.showtraceback = hide_traceback\n"
      ]
    },
    {
      "cell_type": "markdown",
      "id": "c2c38494",
      "metadata": {
        "id": "c2c38494"
      },
      "source": [
        "### 1. Given 2 variables, `height` (m) and `weight` (kg), calculate the BMI (`weight` / `height` ^2)"
      ]
    },
    {
      "cell_type": "code",
      "execution_count": 7,
      "id": "f0bd75c1",
      "metadata": {
        "id": "f0bd75c1"
      },
      "outputs": [],
      "source": [
        "# TODO - Create a variable called height and assign it your height in metres\n",
        "# TODO - Create a variable called weight and assign it your weight in kg\n",
        "# TODO - Create a variable called bmi and assign it the value of your BMI (weight / height ** 2)\n",
        "height = 1.7\n",
        "weight = 57.5\n",
        "bmi= (weight/height**2)"
      ]
    },
    {
      "cell_type": "code",
      "execution_count": 2,
      "id": "1ea06144",
      "metadata": {
        "id": "1ea06144",
        "outputId": "1b565bac-3c89-415f-cb6b-bb45feff721a",
        "colab": {
          "base_uri": "https://localhost:8080/",
          "height": 245
        }
      },
      "outputs": [
        {
          "output_type": "error",
          "ename": "AssertionError",
          "evalue": "ignored",
          "traceback": [
            "\u001b[0;31m---------------------------------------------------------------------------\u001b[0m",
            "\u001b[0;31mAssertionError\u001b[0m                            Traceback (most recent call last)",
            "\u001b[0;32m<ipython-input-2-4edd8c1a55ca>\u001b[0m in \u001b[0;36m<cell line: 3>\u001b[0;34m()\u001b[0m\n\u001b[1;32m      1\u001b[0m \u001b[0;31m#@title #### Run this cell to check your answer { display-mode: \"form\", run: \"auto\" }\u001b[0m\u001b[0;34m\u001b[0m\u001b[0;34m\u001b[0m\u001b[0m\n\u001b[1;32m      2\u001b[0m \u001b[0;34m\u001b[0m\u001b[0m\n\u001b[0;32m----> 3\u001b[0;31m \u001b[0;32massert\u001b[0m \u001b[0;34m\"height\"\u001b[0m \u001b[0;32min\u001b[0m \u001b[0mglobals\u001b[0m\u001b[0;34m(\u001b[0m\u001b[0;34m)\u001b[0m\u001b[0;34m,\u001b[0m \u001b[0;34m\"You need to create a variable called height\"\u001b[0m\u001b[0;34m\u001b[0m\u001b[0;34m\u001b[0m\u001b[0m\n\u001b[0m\u001b[1;32m      4\u001b[0m \u001b[0;32massert\u001b[0m \u001b[0;34m\"weight\"\u001b[0m \u001b[0;32min\u001b[0m \u001b[0mglobals\u001b[0m\u001b[0;34m(\u001b[0m\u001b[0;34m)\u001b[0m\u001b[0;34m,\u001b[0m \u001b[0;34m\"You need to create a variable called weight\"\u001b[0m\u001b[0;34m\u001b[0m\u001b[0;34m\u001b[0m\u001b[0m\n\u001b[1;32m      5\u001b[0m \u001b[0;32massert\u001b[0m \u001b[0;34m\"bmi\"\u001b[0m \u001b[0;32min\u001b[0m \u001b[0mglobals\u001b[0m\u001b[0;34m(\u001b[0m\u001b[0;34m)\u001b[0m\u001b[0;34m,\u001b[0m \u001b[0;34m\"You need to create a variable called bmi\"\u001b[0m\u001b[0;34m\u001b[0m\u001b[0;34m\u001b[0m\u001b[0m\n",
            "\u001b[0;31mAssertionError\u001b[0m: You need to create a variable called height"
          ]
        }
      ],
      "source": [
        "#@title #### Run this cell to check your answer { display-mode: \"form\", run: \"auto\" }\n",
        "\n",
        "assert \"height\" in globals(), \"You need to create a variable called height\"\n",
        "assert \"weight\" in globals(), \"You need to create a variable called weight\"\n",
        "assert \"bmi\" in globals(), \"You need to create a variable called bmi\"\n",
        "marking_system.check_step_1(height, weight, bmi)\n"
      ]
    },
    {
      "cell_type": "markdown",
      "id": "a64f94f2",
      "metadata": {
        "id": "a64f94f2"
      },
      "source": [
        "\n",
        "### 2. Using the parameter BMI, write a series of if statements that print the following outcomes:\n",
        "\n",
        "- __Below 18.5__ ⮕ \"Your BMI is x. You're in the underweight range.\"\n",
        "- __Between 18.5 and 24.9__ ⮕ \"Your BMI is x. You're in the healthy weight range.\"\n",
        "- __Between 25 and 29.9__ ⮕ \"Your BMI is x. You're in the overweight range.\"\n",
        "- __Between 30 and 39.9__ ⮕ \"Your BMI is x. You're in the obese range.\""
      ]
    },
    {
      "cell_type": "code",
      "execution_count": 3,
      "id": "61bad754",
      "metadata": {
        "id": "61bad754",
        "outputId": "fca8b6cb-09e2-4325-8a32-6b19da0cac9d",
        "colab": {
          "base_uri": "https://localhost:8080/",
          "height": 245
        }
      },
      "outputs": [
        {
          "output_type": "error",
          "ename": "NameError",
          "evalue": "ignored",
          "traceback": [
            "\u001b[0;31m---------------------------------------------------------------------------\u001b[0m",
            "\u001b[0;31mNameError\u001b[0m                                 Traceback (most recent call last)",
            "\u001b[0;32m<ipython-input-3-15cc27009bc7>\u001b[0m in \u001b[0;36m<cell line: 3>\u001b[0;34m()\u001b[0m\n\u001b[1;32m      1\u001b[0m \u001b[0;31m# Add your code below this line\u001b[0m\u001b[0;34m\u001b[0m\u001b[0;34m\u001b[0m\u001b[0m\n\u001b[1;32m      2\u001b[0m \u001b[0;31m# TODO - Create the if/elif/else statement to print the correct message\u001b[0m\u001b[0;34m\u001b[0m\u001b[0;34m\u001b[0m\u001b[0m\n\u001b[0;32m----> 3\u001b[0;31m \u001b[0;32mif\u001b[0m \u001b[0mbmi\u001b[0m \u001b[0;34m<\u001b[0m \u001b[0;36m18.5\u001b[0m\u001b[0;34m:\u001b[0m\u001b[0;34m\u001b[0m\u001b[0;34m\u001b[0m\u001b[0m\n\u001b[0m\u001b[1;32m      4\u001b[0m     \u001b[0mprint\u001b[0m\u001b[0;34m(\u001b[0m\u001b[0;34mf\"Your bmi is {bmi:.1f}. You're in the underweight range.\"\u001b[0m\u001b[0;34m)\u001b[0m\u001b[0;34m\u001b[0m\u001b[0;34m\u001b[0m\u001b[0m\n\u001b[1;32m      5\u001b[0m \u001b[0;32melif\u001b[0m \u001b[0;36m18.5\u001b[0m \u001b[0;34m<=\u001b[0m \u001b[0mbmi\u001b[0m \u001b[0;34m<=\u001b[0m \u001b[0;36m24.9\u001b[0m\u001b[0;34m:\u001b[0m\u001b[0;34m\u001b[0m\u001b[0;34m\u001b[0m\u001b[0m\n",
            "\u001b[0;31mNameError\u001b[0m: name 'bmi' is not defined"
          ]
        }
      ],
      "source": [
        "# Add your code below this line\n",
        "# TODO - Create the if/elif/else statement to print the correct message\n",
        "if bmi < 18.5:\n",
        "    print(f\"Your bmi is {bmi:.1f}. You're in the underweight range.\")\n",
        "elif 18.5 <= bmi <= 24.9:\n",
        "    print(f\"Your BMI is {bmi:.1f}. You're in the healthy weight range.\")\n",
        "elif 25 <= bmi <= 29.9:\n",
        "    print(f\"Your bmi is {bmi:.1f}. You're in the overweight range.\")\n",
        "elif 30 <= bmi <= 39.9:\n",
        "    print(f\"Your bmi is {bmi:.1f}. You're in the obese range.\")\n",
        "else:\n",
        "    print(f\"Your bmi is {bmi:.1f}. You're in the extremely obese range.\")"
      ]
    },
    {
      "cell_type": "code",
      "execution_count": 4,
      "id": "f35eb976",
      "metadata": {
        "id": "f35eb976",
        "outputId": "9c5c8ff1-82a2-44d2-fc37-701723daeafb",
        "colab": {
          "base_uri": "https://localhost:8080/",
          "height": 228
        }
      },
      "outputs": [
        {
          "output_type": "error",
          "ename": "NameError",
          "evalue": "ignored",
          "traceback": [
            "\u001b[0;31m---------------------------------------------------------------------------\u001b[0m",
            "\u001b[0;31mNameError\u001b[0m                                 Traceback (most recent call last)",
            "\u001b[0;32m<ipython-input-4-1399d1134eb8>\u001b[0m in \u001b[0;36m<cell line: 5>\u001b[0;34m()\u001b[0m\n\u001b[1;32m      3\u001b[0m \u001b[0;32massert\u001b[0m \u001b[0;34m\"#@title\"\u001b[0m \u001b[0;32mnot\u001b[0m \u001b[0;32min\u001b[0m \u001b[0m_ih\u001b[0m\u001b[0;34m[\u001b[0m\u001b[0;34m-\u001b[0m\u001b[0;36m2\u001b[0m\u001b[0;34m]\u001b[0m\u001b[0;34m,\u001b[0m \u001b[0;34m\"If you want to check your code, rerun the cell that contains your code. If you did, make sure you haven't deleted the comment that says '# Add your code below this line'.\"\u001b[0m\u001b[0;34m\u001b[0m\u001b[0;34m\u001b[0m\u001b[0m\n\u001b[1;32m      4\u001b[0m \u001b[0;34m\u001b[0m\u001b[0m\n\u001b[0;32m----> 5\u001b[0;31m \u001b[0mmarking_system\u001b[0m\u001b[0;34m.\u001b[0m\u001b[0mcheck_step_2\u001b[0m\u001b[0;34m(\u001b[0m\u001b[0m_ih\u001b[0m\u001b[0;34m[\u001b[0m\u001b[0;34m-\u001b[0m\u001b[0;36m2\u001b[0m\u001b[0;34m]\u001b[0m\u001b[0;34m)\u001b[0m\u001b[0;34m\u001b[0m\u001b[0;34m\u001b[0m\u001b[0m\n\u001b[0m",
            "\u001b[0;31mNameError\u001b[0m: name 'marking_system' is not defined"
          ]
        }
      ],
      "source": [
        "#@title #### Run this cell to check if your code looks good { display-mode: \"form\"}\n",
        "assert \"# Add your code below this line\" in _ih[-2], \"Before checking your code, make sure the last cell you ran contains your code. If you did, make sure you haven't deleted the comment that says '# Add your code below this line'.\"\n",
        "assert \"#@title\" not in _ih[-2], \"If you want to check your code, rerun the cell that contains your code. If you did, make sure you haven't deleted the comment that says '# Add your code below this line'.\"\n",
        "\n",
        "marking_system.check_step_2(_ih[-2])\n"
      ]
    },
    {
      "cell_type": "markdown",
      "id": "814c7364",
      "metadata": {
        "id": "814c7364"
      },
      "source": [
        "### 3. Test your code with the following cases by substituting them in for weight and height values in your code:\n",
        "\n",
        "- Height: 1.83m, Weight: 85kg\n",
        "\n",
        "- Height: 1.55m, Weight: 61kg\n",
        "\n",
        "- Height: 2.09m, Weight: 135kg"
      ]
    },
    {
      "cell_type": "code",
      "execution_count": 1,
      "id": "1e415e40",
      "metadata": {
        "id": "1e415e40",
        "outputId": "bf49fabd-8297-4603-fc18-ad097336d0b1",
        "colab": {
          "base_uri": "https://localhost:8080/"
        }
      },
      "outputs": [
        {
          "output_type": "stream",
          "name": "stdout",
          "text": [
            "Test Case 1: Your BMI is 25.4. You're in the overweight range.\n",
            "Test Case 2: Your BMI is 25.4. You're in the overweight range.\n",
            "Test Case 3: Your BMI is 30.9. You're in the obese range.\n"
          ]
        }
      ],
      "source": [
        "height1 = 1.83  # 1.83 meters\n",
        "weight1 = 85.0  # 85 kilograms\n",
        "\n",
        "height2 = 1.55  # 1.55 meters\n",
        "weight2 = 61.0  # 61 kilograms\n",
        "\n",
        "height3 = 2.09  # 2.09 meters\n",
        "weight3 = 135.0  # 135 kilograms\n",
        "\n",
        "# Calculate BMI for each test case\n",
        "bmi1 = weight1 / (height1 ** 2)\n",
        "bmi2 = weight2 / (height2 ** 2)\n",
        "bmi3 = weight3 / (height3 ** 2)\n",
        "\n",
        "# Check and print the BMI category for each test case\n",
        "if bmi1 < 18.5:\n",
        "    print(f\"Test Case 1: Your BMI is {bmi1:.1f}. You're in the underweight range.\")\n",
        "elif 18.5 <= bmi1 <= 24.9:\n",
        "    print(f\"Test Case 1: Your BMI is {bmi1:.1f}. You're in the healthy weight range.\")\n",
        "elif 25 <= bmi1 <= 29.9:\n",
        "    print(f\"Test Case 1: Your BMI is {bmi1:.1f}. You're in the overweight range.\")\n",
        "elif 30 <= bmi1 <= 39.9:\n",
        "    print(f\"Test Case 1: Your BMI is {bmi1:.1f}. You're in the obese range.\")\n",
        "else:\n",
        "    print(f\"Test Case 1: Your BMI is {bmi1:.1f}. You're in the extremely obese range.\")\n",
        "\n",
        "if bmi2 < 18.5:\n",
        "    print(f\"Test Case 2: Your BMI is {bmi2:.1f}. You're in the underweight range.\")\n",
        "elif 18.5 <= bmi2 <= 24.9:\n",
        "    print(f\"Test Case 2: Your BMI is {bmi2:.1f}. You're in the healthy weight range.\")\n",
        "elif 25 <= bmi2 <= 29.9:\n",
        "    print(f\"Test Case 2: Your BMI is {bmi2:.1f}. You're in the overweight range.\")\n",
        "elif 30 <= bmi2 <= 39.9:\n",
        "    print(f\"Test Case 2: Your BMI is {bmi2:.1f}. You're in the obese range.\")\n",
        "else:\n",
        "    print(f\"Test Case 2: Your BMI is {bmi2:.1f}. You're in the extremely obese range.\")\n",
        "\n",
        "if bmi3 < 18.5:\n",
        "    print(f\"Test Case 3: Your BMI is {bmi3:.1f}. You're in the underweight range.\")\n",
        "elif 18.5 <= bmi3 <= 24.9:\n",
        "    print(f\"Test Case 3: Your BMI is {bmi3:.1f}. You're in the healthy weight range.\")\n",
        "elif 25 <= bmi3 <= 29.9:\n",
        "    print(f\"Test Case 3: Your BMI is {bmi3:.1f}. You're in the overweight range.\")\n",
        "elif 30 <= bmi3 <= 39.9:\n",
        "    print(f\"Test Case 3: Your BMI is {bmi3:.1f}. You're in the obese range.\")\n",
        "else:\n",
        "    print(f\"Test Case 3: Your BMI is {bmi3:.1f}. You're in the extremely obese range.\")"
      ]
    }
  ],
  "metadata": {
    "kernelspec": {
      "display_name": "content-projects",
      "language": "python",
      "name": "python3"
    },
    "language_info": {
      "codemirror_mode": {
        "name": "ipython",
        "version": 3
      },
      "file_extension": ".py",
      "mimetype": "text/x-python",
      "name": "python",
      "nbconvert_exporter": "python",
      "pygments_lexer": "ipython3",
      "version": "3.9.15"
    },
    "colab": {
      "provenance": []
    }
  },
  "nbformat": 4,
  "nbformat_minor": 5
}