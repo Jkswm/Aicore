{
  "cells": [
    {
      "cell_type": "markdown",
      "metadata": {
        "id": "1kjEV3qJOtAA"
      },
      "source": [
        "# Handle a Zero Divisor"
      ]
    },
    {
      "cell_type": "markdown",
      "metadata": {
        "id": "sCKBclg1OtAC"
      },
      "source": [
        "Write a function that uses a `try`-`except` block to handle a `ZeroDivisionError`. It should take in two numbers  `a` and `b` as input parameters, and return `a/b`, except where a `ZeroDivisonError` occurs, in which case it should retsurn `0`. Call it with the arguments `a=x` and `b=y` to check it."
      ]
    },
    {
      "cell_type": "code",
      "execution_count": 2,
      "metadata": {
        "id": "p8UAPGsKOtAC",
        "outputId": "c7a5c088-5111-4a63-d30e-4a05fafe166e",
        "colab": {
          "base_uri": "https://localhost:8080/"
        }
      },
      "outputs": [
        {
          "output_type": "stream",
          "name": "stdout",
          "text": [
            "Error: Division by zero.\n"
          ]
        }
      ],
      "source": [
        "x = 10\n",
        "y = 0\n",
        "\n",
        "# TODO: Create a divide function that uses a try-except block to return a 0 in case of a ZeroDivisionError\n",
        "divide_function = (x,y)\n",
        "try:\n",
        "    result = x / y\n",
        "    print(f\"The result of division: {result}\")\n",
        "except ZeroDivisionError:\n",
        "        print(\"Error: Division by zero.\")\n"
      ]
    },
    {
      "cell_type": "markdown",
      "metadata": {
        "id": "27JfsOkMOtAE"
      },
      "source": [
        "Now modify the function so that instead of taking in two parameters, it asks for user input to get the values of `a` and `b`. In the case of a `ZeroDivisionError` it should request the user re-enter their input"
      ]
    },
    {
      "cell_type": "code",
      "execution_count": 5,
      "metadata": {
        "id": "E2figYtcOtAE",
        "outputId": "9949961e-9a76-4c11-eb89-d24b79f33a2c",
        "colab": {
          "base_uri": "https://localhost:8080/"
        }
      },
      "outputs": [
        {
          "output_type": "stream",
          "name": "stdout",
          "text": [
            "Error: Division by zero.\n"
          ]
        }
      ],
      "source": [
        "# TODO: Create a user_input_divide function that asks for two user input for a and b, and returns a/b, handling the ZeroDivisionError by requesting new input\n",
        "def user_input_divide_function(x,y):\n",
        "  try:\n",
        "    x = int(input(\"Enter a number: \"))\n",
        "    y = int(input(\"Enter a number: \"))\n",
        "\n",
        "\n",
        "    result = y / x\n",
        "    print(result)\n",
        "  except: ZeroDivisionError\n",
        "\n",
        "    # Handling ZeroDivisionError\n",
        "print(\"Error: Division by zero.\")"
      ]
    }
  ],
  "metadata": {
    "kernelspec": {
      "display_name": "content_repo",
      "language": "python",
      "name": "python3"
    },
    "language_info": {
      "codemirror_mode": {
        "name": "ipython",
        "version": 3
      },
      "file_extension": ".py",
      "mimetype": "text/x-python",
      "name": "python",
      "nbconvert_exporter": "python",
      "pygments_lexer": "ipython3",
      "version": "3.11.3"
    },
    "colab": {
      "provenance": []
    }
  },
  "nbformat": 4,
  "nbformat_minor": 0
}