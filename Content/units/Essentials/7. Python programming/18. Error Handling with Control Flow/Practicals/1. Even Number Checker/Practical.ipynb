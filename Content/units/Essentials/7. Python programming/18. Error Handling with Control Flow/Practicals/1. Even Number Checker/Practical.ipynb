{
  "cells": [
    {
      "cell_type": "markdown",
      "metadata": {
        "id": "mvdJsGulWEet"
      },
      "source": [
        "# Even Number Checker"
      ]
    },
    {
      "cell_type": "markdown",
      "metadata": {
        "id": "e4yZ1FZvWEew"
      },
      "source": [
        "Write a custom function that:\n",
        "- Takes in an integer number as an input parameter\n",
        "- Returns `True` if the input is even\n",
        "- Raises a `ValueError` if the input is odd\n",
        "- Raises a `TypeError` if the input is not a valid integer"
      ]
    },
    {
      "cell_type": "code",
      "execution_count": null,
      "metadata": {
        "id": "3wOlJMPzWEex"
      },
      "outputs": [],
      "source": [
        "# TODO - write a function that takes in an integer as an input, returns True if it is even,\n",
        "# raises a ValueError if it is not, and a TypeError if the input is not an integer\n"
      ]
    },
    {
      "cell_type": "code",
      "execution_count": 12,
      "metadata": {
        "id": "pCpGNulZWEez",
        "outputId": "24d1bdf7-f3d6-4000-90fd-9d240c24fd04",
        "colab": {
          "base_uri": "https://localhost:8080/"
        }
      },
      "outputs": [
        {
          "output_type": "stream",
          "name": "stdout",
          "text": [
            "Well done. It is an integer\n",
            "This is an odd number\n"
          ]
        }
      ],
      "source": [
        "def custom_function(value):\n",
        "  try:\n",
        "    converted_value = int(value)\n",
        "    print(\"Well done. It is an integer\")\n",
        "    if converted_value % 2 == 0:\n",
        "      print(\"This is an even number\")\n",
        "    else:\n",
        "      print(\"This is an odd number\")\n",
        "\n",
        "  except ValueError:\n",
        "    print(\"This input is not a valid integer\")\n",
        "\n",
        "custom_function(\"3\")\n"
      ]
    },
    {
      "cell_type": "code",
      "source": [
        "def custom_function():\n",
        "#collect input\n",
        "  value = input(\"Please enter number here \")\n",
        "  try:\n",
        "    converted_value = int(value)\n",
        "    print(\"Well done. It is an integer\")\n",
        "    if converted_value % 2 == 0:\n",
        "      print(\"This is an even number\")\n",
        "    else:\n",
        "      print(\"This is an odd number\")\n",
        "\n",
        "  except ValueError:\n",
        "    print(\"This input is not a valid integer\")\n",
        "\n",
        "custom_function()\n"
      ],
      "metadata": {
        "id": "4D9VneKt1hVn",
        "outputId": "e52747e9-40eb-4dae-9f59-864c16ff4146",
        "colab": {
          "base_uri": "https://localhost:8080/"
        }
      },
      "execution_count": 16,
      "outputs": [
        {
          "output_type": "stream",
          "name": "stdout",
          "text": [
            "Please enter number here happy\n",
            "This input is not a valid integer\n"
          ]
        }
      ]
    }
  ],
  "metadata": {
    "language_info": {
      "name": "python"
    },
    "colab": {
      "provenance": []
    },
    "kernelspec": {
      "name": "python3",
      "display_name": "Python 3"
    }
  },
  "nbformat": 4,
  "nbformat_minor": 0
}