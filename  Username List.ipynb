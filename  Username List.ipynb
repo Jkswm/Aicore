{
  "cells": [
    {
      "cell_type": "markdown",
      "metadata": {
        "id": "view-in-github",
        "colab_type": "text"
      },
      "source": [
        "<a href=\"https://colab.research.google.com/github/Jkswm/Aicore/blob/main/%20Username%20List.ipynb\" target=\"_parent\"><img src=\"https://colab.research.google.com/assets/colab-badge.svg\" alt=\"Open In Colab\"/></a>"
      ]
    },
    {
      "cell_type": "markdown",
      "id": "8e488a21",
      "metadata": {
        "id": "8e488a21"
      },
      "source": [
        "# Username List"
      ]
    },
    {
      "cell_type": "code",
      "execution_count": null,
      "id": "0d4ac78d",
      "metadata": {
        "id": "0d4ac78d",
        "outputId": "d5135c45-02ef-44ee-c2d0-b5faaaf0f221",
        "colab": {
          "base_uri": "https://localhost:8080/"
        }
      },
      "outputs": [
        {
          "output_type": "stream",
          "name": "stdout",
          "text": [
            "Downloading the marking system\n"
          ]
        }
      ],
      "source": [
        "#@title ### Run the following cell to download the necessary files for this practical { display-mode: \"form\" }\n",
        "#@markdown Don't worry about what's in this collapsed cell\n",
        "\n",
        "print('Downloading the marking system')\n",
        "!wget https://s3-eu-west-1.amazonaws.com/aicore-portal-public-prod-307050600709/practical_files/b2d5d233-0c3a-482d-8d4f-31ac6ac99240/marking_system.py -q -O marking_system.py\n",
        "import marking_system\n",
        "import importlib\n",
        "importlib.reload(marking_system)\n",
        "import sys\n",
        "ipython = get_ipython()\n",
        "def hide_traceback(exc_tuple=None, filename=None, tb_offset=None, exception_only=False, running_compiled_code=False):\n",
        "    etype, value, tb = sys.exc_info()\n",
        "    value.__cause__ = None  # suppress chained exceptions\n",
        "    return ipython._showtraceback(etype, \"❌ \" + f\"\u001b[91m{value}\", ipython.InteractiveTB.get_exception_only(etype, \"❌ \" + f\"\u001b[91m{value}\"))\n",
        "ipython.showtraceback = hide_traceback\n"
      ]
    },
    {
      "cell_type": "markdown",
      "id": "ca779da1",
      "metadata": {
        "id": "ca779da1"
      },
      "source": [
        "#### 1. Run the code block below to generate a list of 10 random usernames.\n",
        "\n",
        "Don't worry about understanding this code, as it covers concepts you have yet to learn. The code will just randomly generate a list of 10 usernames for us to work on."
      ]
    },
    {
      "cell_type": "code",
      "execution_count": null,
      "id": "c4d75cae",
      "metadata": {
        "id": "c4d75cae",
        "outputId": "adfe9890-e448-4d04-b002-c01fc802148f",
        "colab": {
          "base_uri": "https://localhost:8080/"
        }
      },
      "outputs": [
        {
          "output_type": "stream",
          "name": "stdout",
          "text": [
            "['irx0zzlzx', 'b7e5vo', '92rtv6n0i0', 'ig7meoy', '0xxhun', 'jcv19e6i6', 'mlk8p73cwj', 'curi7nykw', 'nxxka4', 'kr9lfaslu']\n"
          ]
        }
      ],
      "source": [
        "import random\n",
        "import string\n",
        "\n",
        "usernames = []\n",
        "\n",
        "for i in range(10):\n",
        "    length = random.randint(5, 10)\n",
        "    username = ''.join(random.choices(string.ascii_lowercase + string.digits, k=length))\n",
        "    usernames.append(username)\n",
        "\n",
        "print(usernames)\n"
      ]
    },
    {
      "cell_type": "markdown",
      "id": "a881f51a",
      "metadata": {
        "id": "a881f51a"
      },
      "source": [
        "#### 2. Print the type of `usernames`"
      ]
    },
    {
      "cell_type": "code",
      "execution_count": null,
      "id": "b7f8cf28",
      "metadata": {
        "id": "b7f8cf28",
        "outputId": "721a9aac-9d7a-4226-9f80-5640d1b98391",
        "colab": {
          "base_uri": "https://localhost:8080/"
        }
      },
      "outputs": [
        {
          "output_type": "stream",
          "name": "stdout",
          "text": [
            "<class 'list'>\n"
          ]
        }
      ],
      "source": [
        "# TODO - print the type of the variable `usernames`\n",
        "print(type(usernames))"
      ]
    },
    {
      "cell_type": "code",
      "execution_count": null,
      "id": "9dc7a8ff",
      "metadata": {
        "id": "9dc7a8ff",
        "outputId": "4812b0ee-7fe9-4598-d65f-a5657c6edace",
        "colab": {
          "base_uri": "https://localhost:8080/"
        }
      },
      "outputs": [
        {
          "output_type": "stream",
          "name": "stdout",
          "text": [
            "\u001b[92m✔ Well done! The variable 'usernames' is a list.\n"
          ]
        }
      ],
      "source": [
        "#@title #### Enter your solution here { display-mode: \"form\", run: \"auto\" }\n",
        "\n",
        "#@markdown What is the type of the variable `usernames`?\n",
        "usernames_type = \"list\" #@param [\"str\", \"int\", \"float\", \"bool\", \"list\", \"tuple\", \"dict\", \"other\", \"\"]\n",
        "\n",
        "marking_system.check_step_1(usernames_type)\n"
      ]
    },
    {
      "cell_type": "markdown",
      "id": "8ab1741d",
      "metadata": {
        "id": "8ab1741d"
      },
      "source": [
        "#### 3. Print the length of `usernames`"
      ]
    },
    {
      "cell_type": "code",
      "execution_count": null,
      "id": "89e7e3cc",
      "metadata": {
        "id": "89e7e3cc",
        "outputId": "311ec658-7d0c-4b7d-f96f-e88981da2228",
        "colab": {
          "base_uri": "https://localhost:8080/"
        }
      },
      "outputs": [
        {
          "output_type": "stream",
          "name": "stdout",
          "text": [
            "10\n"
          ]
        }
      ],
      "source": [
        "# TODO - print the length of the variable `usernames`\n",
        "print(len(usernames))"
      ]
    },
    {
      "cell_type": "code",
      "execution_count": null,
      "id": "b6d388ad",
      "metadata": {
        "id": "b6d388ad",
        "outputId": "4b09100c-f15b-4d3a-8c6a-f1070d053764",
        "colab": {
          "base_uri": "https://localhost:8080/"
        }
      },
      "outputs": [
        {
          "output_type": "stream",
          "name": "stdout",
          "text": [
            "\u001b[92m✔ Well done! The length of the list 'usernames' is correct.\n"
          ]
        }
      ],
      "source": [
        "#@title #### Enter your solution here { display-mode: \"form\", run: \"auto\" }\n",
        "\n",
        "assert \"usernames\" in globals(), \"The variable 'usernames' does not exist. Please, make sure you have defined it\"\n",
        "\n",
        "#@markdown What is the length of the variable `usernames`?\n",
        "usernames_len = 10 #@param {type:\"number\"}\n",
        "\n",
        "marking_system.check_step_2(usernames, usernames_len)\n"
      ]
    },
    {
      "cell_type": "markdown",
      "id": "cd3d2141",
      "metadata": {
        "id": "cd3d2141"
      },
      "source": [
        "#### 4. Print the type of the first item in `usernames`"
      ]
    },
    {
      "cell_type": "code",
      "execution_count": null,
      "id": "f09f8d31",
      "metadata": {
        "id": "f09f8d31",
        "outputId": "77ea8a54-030b-4bf4-c243-df679e3d61f6",
        "colab": {
          "base_uri": "https://localhost:8080/"
        }
      },
      "outputs": [
        {
          "output_type": "stream",
          "name": "stdout",
          "text": [
            "<class 'str'>\n"
          ]
        }
      ],
      "source": [
        "# TODO - Print the type of the first item in `usernames`\n",
        "\n",
        "print(type(usernames[0]))"
      ]
    },
    {
      "cell_type": "code",
      "execution_count": null,
      "id": "1f9be97d",
      "metadata": {
        "id": "1f9be97d",
        "outputId": "8b6c232f-215e-4e99-a63c-b3491ebb156d",
        "colab": {
          "base_uri": "https://localhost:8080/"
        }
      },
      "outputs": [
        {
          "output_type": "stream",
          "name": "stdout",
          "text": [
            "\u001b[92m✔ Well done! The variable 'username' is a string. In this case, you have a list of strings, but lists can contain any type of data.\n"
          ]
        }
      ],
      "source": [
        "#@title #### Enter your solution here { display-mode: \"form\", run: \"auto\" }\n",
        "\n",
        "#@markdown What is the type of the first item in `usernames`?\n",
        "username_type = \"str\" #@param [\"str\", \"int\", \"float\", \"bool\", \"list\", \"tuple\", \"dict\", \"other\", \"\"]\n",
        "\n",
        "marking_system.check_step_3(username_type)\n"
      ]
    },
    {
      "cell_type": "markdown",
      "id": "9d14680c",
      "metadata": {
        "id": "9d14680c"
      },
      "source": [
        "#### 5. Create a new list called `usernames_2`, consisting of the last 5 elements of `usernames`.\n",
        "\n",
        "To do so, you will need to use slicing (i.e. `usernames[first_index:last_index]`)"
      ]
    },
    {
      "cell_type": "code",
      "execution_count": null,
      "id": "c2971d97",
      "metadata": {
        "id": "c2971d97",
        "outputId": "d245379f-f0de-4ed5-a34d-fc1441270fca",
        "colab": {
          "base_uri": "https://localhost:8080/"
        }
      },
      "outputs": [
        {
          "output_type": "stream",
          "name": "stdout",
          "text": [
            "['irx0zzlzx', 'jcv19e6i6', 'kr9lfaslu', 'mlk8p73cwj', 'nxxka4']\n"
          ]
        }
      ],
      "source": [
        "usernames_2 = usernames[-5:]\n",
        "print(usernames_2)"
      ]
    },
    {
      "cell_type": "markdown",
      "id": "fa16f654",
      "metadata": {
        "id": "fa16f654"
      },
      "source": [
        "#### 6. Remove the 2nd element of `usernames_2` from the list and assign it to a variable called `user_example`.\n",
        "\n",
        "You can use the `pop()` method to remove an element from a list and assign it to a variable. Once you have removed the element, print the list to check that it has been removed."
      ]
    },
    {
      "cell_type": "code",
      "execution_count": null,
      "id": "cc13967a",
      "metadata": {
        "id": "cc13967a",
        "outputId": "838fd24e-9be2-4e4a-b2d6-77cb90b16037",
        "colab": {
          "base_uri": "https://localhost:8080/"
        }
      },
      "outputs": [
        {
          "output_type": "stream",
          "name": "stdout",
          "text": [
            "['irx0zzlzx', 'kr9lfaslu', 'mlk8p73cwj', 'nxxka4']\n",
            "jcv19e6i6\n"
          ]
        }
      ],
      "source": [
        "# TODO - Remove the 2nd element of usernames from the list and assign it to a variable called user_example\n",
        "# TODO - Print the list usernames_2\n",
        "user_example = usernames_2.pop(1)\n",
        "print(usernames_2)\n",
        "print(user_example)"
      ]
    },
    {
      "cell_type": "code",
      "execution_count": null,
      "id": "361b0b48",
      "metadata": {
        "id": "361b0b48",
        "outputId": "9f6dfd16-029d-4ff2-d7a8-0a2a3529337b",
        "colab": {
          "base_uri": "https://localhost:8080/"
        }
      },
      "outputs": [
        {
          "output_type": "stream",
          "name": "stdout",
          "text": [
            "\u001b[92m✔ Well done! You have successfully popped the second element of 'usernames_2' and stored it in the variable 'user_example'.\n"
          ]
        }
      ],
      "source": [
        "#@title #### Run this cell to check your code { display-mode: \"form\", run: \"auto\" }\n",
        "\n",
        "assert \"usernames\" in globals(), \"The variable 'usernames' does not exist. Please, rerun the cell in step 1 to create the variable 'usernames'.\"\n",
        "assert \"usernames_2\" in globals(), \"The variable 'usernames_2' does not exist. Please, make sure you have defined it\"\n",
        "assert \"user_example\" in globals(), \"The variable 'user_example' does not exist. Please, make sure you have defined it\"\n",
        "\n",
        "marking_system.check_step_4(usernames, usernames_2, user_example)\n"
      ]
    },
    {
      "cell_type": "markdown",
      "id": "fd9a14a2",
      "metadata": {
        "id": "fd9a14a2"
      },
      "source": [
        "#### 7. Use the `.sort()` method to sort the elements of `usernames` alphabetically.\n",
        "\n",
        "Notice that after using the sort method, the list is sorted in place. This means that the list is permanently changed."
      ]
    },
    {
      "cell_type": "code",
      "execution_count": null,
      "id": "1361c70c",
      "metadata": {
        "id": "1361c70c",
        "outputId": "4fc343f8-686d-4051-abeb-c22291f4070b",
        "colab": {
          "base_uri": "https://localhost:8080/"
        }
      },
      "outputs": [
        {
          "output_type": "stream",
          "name": "stdout",
          "text": [
            "['0xxhun', '92rtv6n0i0', 'b7e5vo', 'curi7nykw', 'ig7meoy', 'irx0zzlzx', 'jcv19e6i6', 'kr9lfaslu', 'mlk8p73cwj', 'nxxka4']\n"
          ]
        }
      ],
      "source": [
        "# TODO - Use the `.sort()` method to sort the elements of `usernames` alphabetically.\n",
        "# TODO - Print `usernames`\n",
        "usernames.sort()\n",
        "print(usernames)"
      ]
    },
    {
      "cell_type": "code",
      "execution_count": null,
      "id": "cbf5e55a",
      "metadata": {
        "id": "cbf5e55a",
        "outputId": "b8fe172f-b932-4a14-df14-c298268bbed2",
        "colab": {
          "base_uri": "https://localhost:8080/"
        }
      },
      "outputs": [
        {
          "output_type": "stream",
          "name": "stdout",
          "text": [
            "\u001b[92m✔ Well done! You have successfully sorted the list 'usernames'.\n"
          ]
        }
      ],
      "source": [
        "#@title #### Run this cell to check your code { display-mode: \"form\", run: \"auto\" }\n",
        "\n",
        "assert \"usernames\" in globals(), \"The variable 'usernames' does not exist. Please, rerun the cell in step 1 to create the variable 'usernames'.\"\n",
        "\n",
        "marking_system.check_step_5(usernames)\n"
      ]
    },
    {
      "cell_type": "markdown",
      "id": "14c77ef2",
      "metadata": {
        "id": "14c77ef2"
      },
      "source": [
        "#### 8. Using the `index()` method, make the list entry corresponding to `user_example` uppercase.\n",
        "\n",
        "For example, if `user_example` is `user123user`, the code should return `USER123USER`.\n",
        "\n",
        "First, create a variable called `idx_user_example` and assign it the index of `user_example` in the list.\n",
        "\n",
        "Then, retrieve the element at the index `idx_user_example`, uppercase it, and assign it to the variable `upper_user_example`.\n",
        "\n",
        "Finally, replace the element at the index `idx_user_example` with `upper_user_example`."
      ]
    },
    {
      "cell_type": "code",
      "execution_count": null,
      "id": "4c69927b",
      "metadata": {
        "id": "4c69927b",
        "outputId": "3cab559e-6ce0-4d19-92e1-4e47c44a12bc",
        "colab": {
          "base_uri": "https://localhost:8080/"
        }
      },
      "outputs": [
        {
          "output_type": "stream",
          "name": "stdout",
          "text": [
            "6\n",
            "u\n",
            "U\n"
          ]
        }
      ],
      "source": [
        "# TODO - Using the `index()` method, find the index of `user_example` in `usernames` and assign it to a variable called `idx_user_example`.\n",
        "# TODO - Using the index of `user_example`, retrieve the corresponding element from `usernames`, convert it to uppercase and assign it to a variable called `upper_user_example`.\n",
        "# TODO - Using the index of `user_example`, replace the corresponding element in `usernames` with `upper_user_example\n",
        "\n",
        "idx_user_example = usernames.index(user_example)\n",
        "print(idx_user_example)\n",
        "user_example = username[8]\n",
        "print(user_example)\n",
        "upper_user_example= user_example.upper()\n",
        "print(upper_user_example)\n",
        "usernames[idx_user_example] = upper_user_example"
      ]
    },
    {
      "cell_type": "code",
      "execution_count": null,
      "id": "522f751c",
      "metadata": {
        "id": "522f751c",
        "outputId": "bf716028-15d2-4fde-c093-5a312a3de615",
        "colab": {
          "base_uri": "https://localhost:8080/"
        }
      },
      "outputs": [
        {
          "output_type": "stream",
          "name": "stdout",
          "text": [
            "\u001b[92m✔ Well done! You have successfully replaced the element in the list 'usernames' with the upper case version.\n"
          ]
        }
      ],
      "source": [
        "#@title #### Run this cell to check your code { display-mode: \"form\", run: \"auto\" }\n",
        "\n",
        "assert \"idx_user_example\" in globals(), \"The variable 'idx_user_example' does not exist. Please, make sure you have defined it\"\n",
        "assert \"upper_user_example\" in globals(), \"The variable 'upper_user_example' does not exist. Please, make sure you have defined it\"\n",
        "assert \"usernames\" in globals(), \"The variable 'usernames' does not exist. Run the cell in step 1 to create the variable 'usernames'.\"\n",
        "\n",
        "marking_system.check_step_6(usernames, idx_user_example, upper_user_example)\n"
      ]
    }
  ],
  "metadata": {
    "kernelspec": {
      "display_name": "content-projects_new",
      "language": "python",
      "name": "python3"
    },
    "language_info": {
      "codemirror_mode": {
        "name": "ipython",
        "version": 3
      },
      "file_extension": ".py",
      "mimetype": "text/x-python",
      "name": "python",
      "nbconvert_exporter": "python",
      "pygments_lexer": "ipython3",
      "version": "3.10.8"
    },
    "vscode": {
      "interpreter": {
        "hash": "4b961f8166aad6ccb4cf65d0f9c742ef9c6c23ffe83ad932438cd83ed96aebaf"
      }
    },
    "colab": {
      "provenance": [],
      "include_colab_link": true
    }
  },
  "nbformat": 4,
  "nbformat_minor": 5
}