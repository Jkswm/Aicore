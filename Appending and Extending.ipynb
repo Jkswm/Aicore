{
  "cells": [
    {
      "cell_type": "markdown",
      "metadata": {
        "id": "Y3nKZlFgjbMv"
      },
      "source": [
        "# Appending and Extending"
      ]
    },
    {
      "cell_type": "code",
      "execution_count": 2,
      "metadata": {
        "id": "85d6c8b9",
        "outputId": "b459baa0-f884-4bba-c2ff-29de65cd60f1",
        "colab": {
          "base_uri": "https://localhost:8080/"
        }
      },
      "outputs": [
        {
          "output_type": "stream",
          "name": "stdout",
          "text": [
            "Downloading the marking system\n"
          ]
        }
      ],
      "source": [
        "#@title ### Run the following cell to download the necessary files for this practical { display-mode: \"form\" }\n",
        "#@markdown Don't worry about what's in this collapsed cell\n",
        "\n",
        "print('Downloading the marking system')\n",
        "!wget https://s3-eu-west-1.amazonaws.com/aicore-portal-public-prod-307050600709/practical_files/aa08f17b-e12c-4c6a-82ba-db96e7830570/marking_system.py -q -O marking_system.py\n",
        "import marking_system\n",
        "import importlib\n",
        "importlib.reload(marking_system)\n",
        "import sys\n",
        "ipython = get_ipython()\n",
        "def hide_traceback(exc_tuple=None, filename=None, tb_offset=None, exception_only=False, running_compiled_code=False):\n",
        "    etype, value, tb = sys.exc_info()\n",
        "    value.__cause__ = None  # suppress chained exceptions\n",
        "    return ipython._showtraceback(etype, \"❌ \" + f\"\u001b[91m{value}\", ipython.InteractiveTB.get_exception_only(etype, \"❌ \" + f\"\u001b[91m{value}\"))\n",
        "ipython.showtraceback = hide_traceback\n"
      ]
    },
    {
      "cell_type": "markdown",
      "metadata": {
        "id": "pzGUpDTpjbM5"
      },
      "source": [
        "Given the following lists\n"
      ]
    },
    {
      "cell_type": "code",
      "execution_count": 11,
      "metadata": {
        "id": "vS_4ELIVjbM6"
      },
      "outputs": [],
      "source": [
        "my_list_1 = [1, 2, 3, 4]\n",
        "my_list_2 = [5, 6, 7, 8]\n"
      ]
    },
    {
      "cell_type": "markdown",
      "metadata": {
        "id": "jQTKsEX7jbM6"
      },
      "source": [
        "### 1. Appends `my_list_2` to `my_list_1`. Use the `append()` method.\n",
        "\n",
        "Print `my_list_1` and `my_list_2` to see the result."
      ]
    },
    {
      "cell_type": "code",
      "execution_count": 12,
      "metadata": {
        "id": "mWP-r_d7jbM7",
        "outputId": "2f95863a-2bfd-49e1-8c60-71310230d9c0",
        "colab": {
          "base_uri": "https://localhost:8080/"
        }
      },
      "outputs": [
        {
          "output_type": "stream",
          "name": "stdout",
          "text": [
            "[1, 2, 3, 4, [5, 6, 7, 8]]\n",
            "[5, 6, 7, 8]\n"
          ]
        }
      ],
      "source": [
        "# TODO - Append my_list_2 to my_list_1\n",
        "# TODO - Print my_list_1\n",
        "# TODO - Print my_list_2\n",
        "my_list_1.append(my_list_2)\n",
        "print (my_list_1)\n",
        "print(my_list_2)"
      ]
    },
    {
      "cell_type": "code",
      "execution_count": 13,
      "metadata": {
        "id": "1o63EOcRjbM8",
        "outputId": "c6c06b0f-9d71-43e4-bad5-831b35321c27",
        "colab": {
          "base_uri": "https://localhost:8080/"
        }
      },
      "outputs": [
        {
          "output_type": "stream",
          "name": "stdout",
          "text": [
            "\u001b[92m✔ Well done! You have successfully appended a list to another list.\n"
          ]
        }
      ],
      "source": [
        "#@title #### Run this cell to check your answer { display-mode: \"form\", run: \"auto\" }\n",
        "\n",
        "assert \"my_list_1\" in globals(), \"The variable 'my_list_1' does not exist. Please, run the cell in step 1 again to create the variable 'my_list_1'.\"\n",
        "assert \"my_list_2\" in globals(), \"The variable 'my_list_2' does not exist. Please, run the cell in step 1 again to create the variable 'my_list_2'.\"\n",
        "assert my_list_1, \"The variable 'my_list_1' is empty. This might have happened because you reassigned the output of the append method to the variable 'my_list_1'. Please, run the cell in step 1 again to create the variable 'my_list_1'.\"\n",
        "\n",
        "marking_system.check_step_1(my_list_1, my_list_2)\n"
      ]
    },
    {
      "cell_type": "markdown",
      "metadata": {
        "id": "yg1vN2FzjbM9"
      },
      "source": [
        "### 2. Extends `my_list_2` with `my_list_1`. Use the `extend()` method.\n",
        "\n",
        "Print `my_list_1` and `my_list_2` to see the result.\n",
        "\n",
        "_Run the following cell to reset the values of `my_list_1` and `my_list_2`._"
      ]
    },
    {
      "cell_type": "code",
      "execution_count": 14,
      "metadata": {
        "id": "bNgu7DhWjbM9"
      },
      "outputs": [],
      "source": [
        "my_list_1 = [1, 2, 3, 4]\n",
        "my_list_2 = [5, 6, 7, 8]\n"
      ]
    },
    {
      "cell_type": "code",
      "execution_count": 15,
      "metadata": {
        "id": "Vj90jp-mjbM-",
        "outputId": "65d4e646-9e45-4bdf-c06d-5f86f0d2a9f3",
        "colab": {
          "base_uri": "https://localhost:8080/"
        }
      },
      "outputs": [
        {
          "output_type": "stream",
          "name": "stdout",
          "text": [
            "[1, 2, 3, 4, 5, 6, 7, 8]\n",
            "[5, 6, 7, 8]\n"
          ]
        }
      ],
      "source": [
        "# TODO - Extend my_list_1 with my_list_2\n",
        "# TODO - Print my_list_1\n",
        "# TODO - Print my_list_2\n",
        "my_list_1.extend(my_list_2)\n",
        "print(my_list_1)\n",
        "print(my_list_2)"
      ]
    },
    {
      "cell_type": "code",
      "execution_count": 16,
      "metadata": {
        "id": "7XaSNUq0jbM_",
        "outputId": "9a1ad8d4-06c3-472f-f1ad-bb974da4bf9d",
        "colab": {
          "base_uri": "https://localhost:8080/"
        }
      },
      "outputs": [
        {
          "output_type": "stream",
          "name": "stdout",
          "text": [
            "\u001b[92m✔ Well done! You have successfully extended a list with another list.\n"
          ]
        }
      ],
      "source": [
        "#@title #### Run this cell to check your answer { display-mode: \"form\", run: \"auto\" }\n",
        "\n",
        "assert \"my_list_1\" in globals(), \"The variable 'my_list_1' does not exist. Please, run the cell in step 1 again to create the variable 'my_list_1'.\"\n",
        "assert \"my_list_2\" in globals(), \"The variable 'my_list_2' does not exist. Please, run the cell in step 1 again to create the variable 'my_list_2'.\"\n",
        "assert my_list_1, \"The variable 'my_list_1' is empty. This might have happened because you reassigned the output of the extend method to the variable 'my_list_1'. Please, run the cell in step 1 again to create the variable 'my_list_1'.\"\n",
        "\n",
        "marking_system.check_step_2(my_list_1, my_list_2)\n"
      ]
    }
  ],
  "metadata": {
    "kernelspec": {
      "display_name": "content-projects_new",
      "language": "python",
      "name": "python3"
    },
    "language_info": {
      "name": "python",
      "version": "3.10.8"
    },
    "vscode": {
      "interpreter": {
        "hash": "4b961f8166aad6ccb4cf65d0f9c742ef9c6c23ffe83ad932438cd83ed96aebaf"
      }
    },
    "colab": {
      "provenance": []
    }
  },
  "nbformat": 4,
  "nbformat_minor": 0
}