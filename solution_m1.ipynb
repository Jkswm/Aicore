{
  "cells": [
    {
      "cell_type": "markdown",
      "metadata": {
        "id": "yX2hstNYQ3w0"
      },
      "source": [
        "# Movie Recommendation - Milestone 1 - Solutions"
      ]
    },
    {
      "cell_type": "code",
      "execution_count": null,
      "metadata": {
        "id": "DHNM6J1YQ3w4"
      },
      "outputs": [],
      "source": [
        "#@title # Run this cell to get the movies variable in the notebook { display-mode: \"form\" }\n",
        "!wget https://aicore-files.s3.amazonaws.com/Movie-Recommendation/movies-head.json\n",
        "import json\n",
        "# Load the movies\n",
        "with open('movies-head.json', 'r') as f:\n",
        "    movies = json.load(f)"
      ]
    },
    {
      "cell_type": "markdown",
      "metadata": {
        "id": "Mpz3yU02Q3w5"
      },
      "source": [
        "## Task 1"
      ]
    },
    {
      "cell_type": "markdown",
      "metadata": {
        "id": "ZVfMK0oSQ3w6"
      },
      "source": [
        "You can check the number of elements in a list using the `len()` function. For example, the following code will print the number of elements in the list `my_list`:\n",
        "\n",
        "```python\n",
        "my_list = [1, 2, 3, 4, 5]\n",
        "print(len(my_list))\n",
        "```"
      ]
    },
    {
      "cell_type": "code",
      "execution_count": null,
      "metadata": {
        "id": "PbVKP1zhQ3w6"
      },
      "outputs": [],
      "source": [
        "len(movies)"
      ]
    },
    {
      "cell_type": "markdown",
      "metadata": {
        "id": "9ddj-zJxQ3w7"
      },
      "source": [
        "## Task 2"
      ]
    },
    {
      "cell_type": "markdown",
      "metadata": {
        "id": "Xaqd2mUrQ3w7"
      },
      "source": [
        "To get an element from a list, you can use the index of the element. For example, the following code will print the first element in the list `my_list`:\n",
        "\n",
        "```python\n",
        "my_list = [1, 2, 3, 4, 5]\n",
        "print(my_list[0])\n",
        "```\n",
        "We are using 0 because Python uses 0-based indexing. This means that the first element in a list is at index 0, the second element is at index 1, and so on.\n",
        "\n",
        "If you want to get the last element in a list, you can use the following code:\n",
        "\n",
        "```python\n",
        "my_list = [1, 2, 3, 4, 5]\n",
        "print(my_list[-1])\n",
        "```"
      ]
    },
    {
      "cell_type": "code",
      "execution_count": null,
      "metadata": {
        "id": "Os5LfyeGQ3w8"
      },
      "outputs": [],
      "source": [
        "movie = movies[0]\n",
        "print(movie)"
      ]
    },
    {
      "cell_type": "markdown",
      "metadata": {
        "id": "NBNw2tOPQ3w8"
      },
      "source": [
        "## Task 3"
      ]
    },
    {
      "cell_type": "markdown",
      "metadata": {
        "id": "8IDjZTy9Q3w9"
      },
      "source": [
        "To get an element from a dictionary, you can index the key of the element. For example, the following code will print the value of the key `my_key` in the dictionary `my_dict`:\n",
        "\n",
        "```python\n",
        "my_dict = {'my_key': 1}\n",
        "print(my_dict['my_key'])\n",
        "```\n",
        "\n",
        "Notice that it looks very similar to getting an element from a list. The only difference is that we use the key instead of the index."
      ]
    },
    {
      "cell_type": "code",
      "execution_count": null,
      "metadata": {
        "id": "d20zoFuqQ3w9"
      },
      "outputs": [],
      "source": [
        "print(movie[\"link\"])"
      ]
    }
  ],
  "metadata": {
    "kernelspec": {
      "display_name": "Python 3.9.5 ('base')",
      "language": "python",
      "name": "python3"
    },
    "language_info": {
      "codemirror_mode": {
        "name": "ipython",
        "version": 3
      },
      "file_extension": ".py",
      "mimetype": "text/x-python",
      "name": "python",
      "nbconvert_exporter": "python",
      "pygments_lexer": "ipython3",
      "version": "3.9.5"
    },
    "orig_nbformat": 4,
    "vscode": {
      "interpreter": {
        "hash": "ce99af5845ff7f417c6fe57e3883abe41597db90e3f493c4f9da5159bbc46102"
      }
    },
    "colab": {
      "provenance": []
    }
  },
  "nbformat": 4,
  "nbformat_minor": 0
}